{
 "cells": [
  {
   "cell_type": "code",
   "execution_count": 1,
   "metadata": {},
   "outputs": [],
   "source": [
    "import os\n",
    "import glob\n",
    "import pandas as pd"
   ]
  },
  {
   "cell_type": "code",
   "execution_count": 3,
   "metadata": {},
   "outputs": [],
   "source": [
    "def concatenate(indir=\"C:/Users/Sagar/Desktop/Dataframes\",outfile=\"D:/Minor/Consolidated_NEW.csv\"):\n",
    "    os.chdir(indir)\n",
    "    fileList=glob.glob(\"*.csv\")\n",
    "    dfList=[]\n",
    "    colNames=[\"Respondent\",\"EAR\",\"MAR\",\"PUC\",\"MOE\",\"Label\"]\n",
    "    for filename in fileList:\n",
    "        df=pd.read_csv(filename,header=None)\n",
    "        dfList.append(df)\n",
    "    concatDf=pd.concat(dfList,axis=0)\n",
    "    concatDf.columns=colNames\n",
    "    concatDf.to_csv(outfile,index=None)\n",
    "\n",
    "concatenate()"
   ]
  },
  {
   "cell_type": "code",
   "execution_count": 4,
   "metadata": {},
   "outputs": [],
   "source": [
    "#df.to_csv('Final.csv',index=False)"
   ]
  },
  {
   "cell_type": "code",
   "execution_count": 2,
   "metadata": {},
   "outputs": [],
   "source": [
    "#Reading the CSV back into a dataframe\n",
    "df = pd.read_csv('D:/Minor/Consolidated_AL_DR.csv')\n",
    "\n",
    "df[\"Respondent\"]=df[\"Respondent\"].astype(int)\n",
    "df[\"Label\"]=df[\"Label\"].astype(int)"
   ]
  },
  {
   "cell_type": "code",
   "execution_count": 3,
   "metadata": {},
   "outputs": [
    {
     "data": {
      "text/html": [
       "<div>\n",
       "<style scoped>\n",
       "    .dataframe tbody tr th:only-of-type {\n",
       "        vertical-align: middle;\n",
       "    }\n",
       "\n",
       "    .dataframe tbody tr th {\n",
       "        vertical-align: top;\n",
       "    }\n",
       "\n",
       "    .dataframe thead th {\n",
       "        text-align: right;\n",
       "    }\n",
       "</style>\n",
       "<table border=\"1\" class=\"dataframe\">\n",
       "  <thead>\n",
       "    <tr style=\"text-align: right;\">\n",
       "      <th></th>\n",
       "      <th>Respondent</th>\n",
       "      <th>EAR</th>\n",
       "      <th>MAR</th>\n",
       "      <th>PUC</th>\n",
       "      <th>MOE</th>\n",
       "      <th>Label</th>\n",
       "    </tr>\n",
       "  </thead>\n",
       "  <tbody>\n",
       "    <tr>\n",
       "      <td>0</td>\n",
       "      <td>4</td>\n",
       "      <td>0.257930</td>\n",
       "      <td>0.778621</td>\n",
       "      <td>0.417689</td>\n",
       "      <td>3.018724</td>\n",
       "      <td>0</td>\n",
       "    </tr>\n",
       "    <tr>\n",
       "      <td>1</td>\n",
       "      <td>4</td>\n",
       "      <td>0.274627</td>\n",
       "      <td>0.745216</td>\n",
       "      <td>0.366795</td>\n",
       "      <td>2.713560</td>\n",
       "      <td>0</td>\n",
       "    </tr>\n",
       "    <tr>\n",
       "      <td>2</td>\n",
       "      <td>4</td>\n",
       "      <td>0.250898</td>\n",
       "      <td>0.774664</td>\n",
       "      <td>0.402140</td>\n",
       "      <td>3.087563</td>\n",
       "      <td>0</td>\n",
       "    </tr>\n",
       "    <tr>\n",
       "      <td>3</td>\n",
       "      <td>4</td>\n",
       "      <td>0.300371</td>\n",
       "      <td>0.688505</td>\n",
       "      <td>0.415034</td>\n",
       "      <td>2.292181</td>\n",
       "      <td>0</td>\n",
       "    </tr>\n",
       "    <tr>\n",
       "      <td>4</td>\n",
       "      <td>4</td>\n",
       "      <td>0.293565</td>\n",
       "      <td>0.704847</td>\n",
       "      <td>0.448924</td>\n",
       "      <td>2.400990</td>\n",
       "      <td>0</td>\n",
       "    </tr>\n",
       "  </tbody>\n",
       "</table>\n",
       "</div>"
      ],
      "text/plain": [
       "   Respondent       EAR       MAR       PUC       MOE  Label\n",
       "0           4  0.257930  0.778621  0.417689  3.018724      0\n",
       "1           4  0.274627  0.745216  0.366795  2.713560      0\n",
       "2           4  0.250898  0.774664  0.402140  3.087563      0\n",
       "3           4  0.300371  0.688505  0.415034  2.292181      0\n",
       "4           4  0.293565  0.704847  0.448924  2.400990      0"
      ]
     },
     "execution_count": 3,
     "metadata": {},
     "output_type": "execute_result"
    }
   ],
   "source": [
    "df.head()"
   ]
  },
  {
   "cell_type": "code",
   "execution_count": 4,
   "metadata": {},
   "outputs": [
    {
     "data": {
      "text/plain": [
       "array([ 4,  9, 11, 12, 16, 18, 24, 27, 29, 32, 35, 36, 39, 40, 44, 46, 51,\n",
       "       54, 60], dtype=int64)"
      ]
     },
     "execution_count": 4,
     "metadata": {},
     "output_type": "execute_result"
    }
   ],
   "source": [
    "df[\"Respondent\"].unique()"
   ]
  },
  {
   "cell_type": "code",
   "execution_count": 5,
   "metadata": {},
   "outputs": [],
   "source": [
    "#Separating the rows which are \"Alert\" only\n",
    "df_alert = df[df[\"Label\"]==0]\n",
    "\n",
    "#Separating the rows which are \"Drowsy\" only\n",
    "df_drowsy = df[df[\"Label\"]==10]"
   ]
  },
  {
   "cell_type": "code",
   "execution_count": 6,
   "metadata": {},
   "outputs": [],
   "source": [
    "#Creating separate dataframes for each respondent's first, second and third \"Alert\" frame\n",
    "df_alert_1 = df_alert.iloc[0::240, :]\n",
    "df_alert_2 = df_alert.iloc[1::240, :]\n",
    "df_alert_3 = df_alert.iloc[2::240, :]\n",
    "\n",
    "#Creating separate dataframes for each respondent's first, second and third \"Drowsy\" frame\n",
    "df_drowsy_1 = df_drowsy.iloc[0::240, :]\n",
    "df_drowsy_2 = df_drowsy.iloc[1::240, :]\n",
    "df_drowsy_3 = df_drowsy.iloc[2::240, :]"
   ]
  },
  {
   "cell_type": "code",
   "execution_count": 7,
   "metadata": {},
   "outputs": [],
   "source": [
    "#Merging them into one dataframe\n",
    "alert_first3 = [df_alert_1,df_alert_2,df_alert_3]\n",
    "df_alert_first3 = pd.concat(alert_first3)\n",
    "df_alert_first3 = df_alert_first3.sort_index()\n",
    "\n",
    "#Merging them into one dataframe\n",
    "drowsy_first3 = [df_drowsy_1,df_drowsy_2,df_drowsy_3]\n",
    "df_drowsy_first3 = pd.concat(drowsy_first3)\n",
    "df_drowsy_first3 = df_drowsy_first3.sort_index()"
   ]
  },
  {
   "cell_type": "code",
   "execution_count": 9,
   "metadata": {},
   "outputs": [
    {
     "data": {
      "text/plain": [
       "array([ 4,  9, 11, 12, 16, 18, 24, 27, 29, 32, 35, 36, 39, 40, 44, 46, 51,\n",
       "       54, 60], dtype=int64)"
      ]
     },
     "execution_count": 9,
     "metadata": {},
     "output_type": "execute_result"
    }
   ],
   "source": [
    "df_drowsy[\"Respondent\"].unique()"
   ]
  },
  {
   "cell_type": "code",
   "execution_count": 8,
   "metadata": {},
   "outputs": [],
   "source": [
    "#Based on the first 3 \"Alert\" frames, calculating respondent-wise mean and std for each feature\n",
    "df_means_alert = df_alert_first3.groupby(\"Respondent\")[\"EAR\",\"MAR\",\"PUC\",\"MOE\"].mean()\n",
    "df_std_alert = df_alert_first3.groupby(\"Respondent\")[\"EAR\",\"MAR\",\"PUC\",\"MOE\"].std()\n",
    "\n",
    "#Based on the first 3 \"Drowsy\" frames, calculating respondent-wise mean and std for each feature\n",
    "df_means_drowsy = df_drowsy_first3.groupby(\"Respondent\")[\"EAR\",\"MAR\",\"PUC\",\"MOE\"].mean()\n",
    "df_std_drowsy = df_drowsy_first3.groupby(\"Respondent\")[\"EAR\",\"MAR\",\"PUC\",\"MOE\"].std()"
   ]
  },
  {
   "cell_type": "code",
   "execution_count": 14,
   "metadata": {},
   "outputs": [
    {
     "data": {
      "text/html": [
       "<div>\n",
       "<style scoped>\n",
       "    .dataframe tbody tr th:only-of-type {\n",
       "        vertical-align: middle;\n",
       "    }\n",
       "\n",
       "    .dataframe tbody tr th {\n",
       "        vertical-align: top;\n",
       "    }\n",
       "\n",
       "    .dataframe thead th {\n",
       "        text-align: right;\n",
       "    }\n",
       "</style>\n",
       "<table border=\"1\" class=\"dataframe\">\n",
       "  <thead>\n",
       "    <tr style=\"text-align: right;\">\n",
       "      <th></th>\n",
       "      <th>EAR</th>\n",
       "      <th>MAR</th>\n",
       "      <th>PUC</th>\n",
       "      <th>MOE</th>\n",
       "    </tr>\n",
       "    <tr>\n",
       "      <th>Respondent</th>\n",
       "      <th></th>\n",
       "      <th></th>\n",
       "      <th></th>\n",
       "      <th></th>\n",
       "    </tr>\n",
       "  </thead>\n",
       "  <tbody>\n",
       "    <tr>\n",
       "      <td>4</td>\n",
       "      <td>0.033628</td>\n",
       "      <td>0.055970</td>\n",
       "      <td>0.034028</td>\n",
       "      <td>0.517868</td>\n",
       "    </tr>\n",
       "    <tr>\n",
       "      <td>9</td>\n",
       "      <td>0.027437</td>\n",
       "      <td>0.062172</td>\n",
       "      <td>0.021577</td>\n",
       "      <td>0.258193</td>\n",
       "    </tr>\n",
       "    <tr>\n",
       "      <td>11</td>\n",
       "      <td>0.013151</td>\n",
       "      <td>0.013052</td>\n",
       "      <td>0.017936</td>\n",
       "      <td>0.146812</td>\n",
       "    </tr>\n",
       "    <tr>\n",
       "      <td>12</td>\n",
       "      <td>0.038840</td>\n",
       "      <td>0.032318</td>\n",
       "      <td>0.040876</td>\n",
       "      <td>0.715414</td>\n",
       "    </tr>\n",
       "    <tr>\n",
       "      <td>16</td>\n",
       "      <td>0.021381</td>\n",
       "      <td>0.071965</td>\n",
       "      <td>0.015791</td>\n",
       "      <td>0.350213</td>\n",
       "    </tr>\n",
       "    <tr>\n",
       "      <td>18</td>\n",
       "      <td>0.054527</td>\n",
       "      <td>0.022026</td>\n",
       "      <td>0.037793</td>\n",
       "      <td>2.741152</td>\n",
       "    </tr>\n",
       "    <tr>\n",
       "      <td>24</td>\n",
       "      <td>0.038025</td>\n",
       "      <td>0.016885</td>\n",
       "      <td>0.025376</td>\n",
       "      <td>0.675231</td>\n",
       "    </tr>\n",
       "    <tr>\n",
       "      <td>27</td>\n",
       "      <td>0.027941</td>\n",
       "      <td>0.061533</td>\n",
       "      <td>0.032175</td>\n",
       "      <td>0.234195</td>\n",
       "    </tr>\n",
       "    <tr>\n",
       "      <td>29</td>\n",
       "      <td>0.006070</td>\n",
       "      <td>0.042535</td>\n",
       "      <td>0.011126</td>\n",
       "      <td>0.183278</td>\n",
       "    </tr>\n",
       "    <tr>\n",
       "      <td>32</td>\n",
       "      <td>0.061611</td>\n",
       "      <td>0.017454</td>\n",
       "      <td>0.047247</td>\n",
       "      <td>1.168704</td>\n",
       "    </tr>\n",
       "    <tr>\n",
       "      <td>35</td>\n",
       "      <td>0.072269</td>\n",
       "      <td>0.034635</td>\n",
       "      <td>0.080869</td>\n",
       "      <td>1.323593</td>\n",
       "    </tr>\n",
       "    <tr>\n",
       "      <td>36</td>\n",
       "      <td>0.047241</td>\n",
       "      <td>0.039006</td>\n",
       "      <td>0.044031</td>\n",
       "      <td>0.967806</td>\n",
       "    </tr>\n",
       "    <tr>\n",
       "      <td>39</td>\n",
       "      <td>0.022264</td>\n",
       "      <td>0.088157</td>\n",
       "      <td>0.011078</td>\n",
       "      <td>0.903312</td>\n",
       "    </tr>\n",
       "    <tr>\n",
       "      <td>40</td>\n",
       "      <td>0.045129</td>\n",
       "      <td>0.018786</td>\n",
       "      <td>0.051913</td>\n",
       "      <td>0.631028</td>\n",
       "    </tr>\n",
       "    <tr>\n",
       "      <td>44</td>\n",
       "      <td>0.010735</td>\n",
       "      <td>0.016258</td>\n",
       "      <td>0.020988</td>\n",
       "      <td>0.186219</td>\n",
       "    </tr>\n",
       "    <tr>\n",
       "      <td>46</td>\n",
       "      <td>0.025651</td>\n",
       "      <td>0.019419</td>\n",
       "      <td>0.024182</td>\n",
       "      <td>0.376929</td>\n",
       "    </tr>\n",
       "    <tr>\n",
       "      <td>51</td>\n",
       "      <td>0.016661</td>\n",
       "      <td>0.017922</td>\n",
       "      <td>0.018214</td>\n",
       "      <td>0.292230</td>\n",
       "    </tr>\n",
       "    <tr>\n",
       "      <td>54</td>\n",
       "      <td>0.017912</td>\n",
       "      <td>0.019645</td>\n",
       "      <td>0.033392</td>\n",
       "      <td>0.315662</td>\n",
       "    </tr>\n",
       "    <tr>\n",
       "      <td>60</td>\n",
       "      <td>0.002308</td>\n",
       "      <td>0.080268</td>\n",
       "      <td>0.029489</td>\n",
       "      <td>0.245247</td>\n",
       "    </tr>\n",
       "  </tbody>\n",
       "</table>\n",
       "</div>"
      ],
      "text/plain": [
       "                 EAR       MAR       PUC       MOE\n",
       "Respondent                                        \n",
       "4           0.033628  0.055970  0.034028  0.517868\n",
       "9           0.027437  0.062172  0.021577  0.258193\n",
       "11          0.013151  0.013052  0.017936  0.146812\n",
       "12          0.038840  0.032318  0.040876  0.715414\n",
       "16          0.021381  0.071965  0.015791  0.350213\n",
       "18          0.054527  0.022026  0.037793  2.741152\n",
       "24          0.038025  0.016885  0.025376  0.675231\n",
       "27          0.027941  0.061533  0.032175  0.234195\n",
       "29          0.006070  0.042535  0.011126  0.183278\n",
       "32          0.061611  0.017454  0.047247  1.168704\n",
       "35          0.072269  0.034635  0.080869  1.323593\n",
       "36          0.047241  0.039006  0.044031  0.967806\n",
       "39          0.022264  0.088157  0.011078  0.903312\n",
       "40          0.045129  0.018786  0.051913  0.631028\n",
       "44          0.010735  0.016258  0.020988  0.186219\n",
       "46          0.025651  0.019419  0.024182  0.376929\n",
       "51          0.016661  0.017922  0.018214  0.292230\n",
       "54          0.017912  0.019645  0.033392  0.315662\n",
       "60          0.002308  0.080268  0.029489  0.245247"
      ]
     },
     "execution_count": 14,
     "metadata": {},
     "output_type": "execute_result"
    }
   ],
   "source": [
    "df_std_drowsy"
   ]
  },
  {
   "cell_type": "code",
   "execution_count": null,
   "metadata": {},
   "outputs": [],
   "source": []
  },
  {
   "cell_type": "code",
   "execution_count": null,
   "metadata": {},
   "outputs": [],
   "source": []
  },
  {
   "cell_type": "code",
   "execution_count": 15,
   "metadata": {},
   "outputs": [],
   "source": [
    "def mean_EAR_alert(respondent):\n",
    "    return df_means_alert.loc[respondent][\"EAR\"]\n",
    "\n",
    "def mean_EAR_drowsy(respondent):\n",
    "    return df_means_drowsy.loc[respondent][\"EAR\"]\n",
    "\n",
    "def mean_MAR_alert(respondent):\n",
    "    return df_means_alert.loc[respondent][\"MAR\"]\n",
    "\n",
    "def mean_MAR_drowsy(respondent):\n",
    "    return df_means_drowsy.loc[respondent][\"MAR\"]\n",
    "\n",
    "def mean_PUC_alert(respondent):\n",
    "    return df_means_alert.loc[respondent][\"PUC\"]\n",
    "\n",
    "def mean_PUC_drowsy(respondent):\n",
    "    return df_means_drowsy.loc[respondent][\"PUC\"]\n",
    "\n",
    "def mean_MOE_alert(respondent):\n",
    "    return df_means_alert.loc[respondent][\"MOE\"]\n",
    "\n",
    "def mean_MOE_drowsy(respondent):\n",
    "    return df_means_drowsy.loc[respondent][\"MOE\"]\n",
    "\n",
    "\n",
    "def std_EAR_alert(respondent):\n",
    "    return df_std_alert.loc[respondent][\"EAR\"]\n",
    "\n",
    "def std_EAR_drowsy(respondent):\n",
    "    return df_std_drowsy.loc[respondent][\"EAR\"]\n",
    "\n",
    "def std_MAR_alert(respondent):\n",
    "    return df_std_alert.loc[respondent][\"MAR\"]\n",
    "\n",
    "def std_MAR_drowsy(respondent):\n",
    "    return df_std_drowsy.loc[respondent][\"MAR\"]\n",
    "\n",
    "def std_PUC_alert(respondent):\n",
    "    return df_std_alert.loc[respondent][\"PUC\"]\n",
    "\n",
    "def std_PUC_drowsy(respondent):\n",
    "    return df_std_drowsy.loc[respondent][\"PUC\"]\n",
    "\n",
    "def std_MOE_alert(respondent):\n",
    "    return df_std_alert.loc[respondent][\"MOE\"]\n",
    "\n",
    "def std_MOE_drowsy(respondent):\n",
    "    return df_std_drowsy.loc[respondent][\"MOE\"]"
   ]
  },
  {
   "cell_type": "code",
   "execution_count": 16,
   "metadata": {},
   "outputs": [],
   "source": [
    "#Adding respondent-wise mean and std for each feature to each row in the original dataframe\n",
    "df[\"EAR_mean\"] = df[\"Respondent\"].apply(mean_EAR_alert)\n",
    "df[\"MAR_mean\"] = df[\"Respondent\"].apply(mean_MAR_alert)\n",
    "df[\"PUC_mean\"] = df[\"Respondent\"].apply(mean_PUC_alert)\n",
    "df[\"MOE_mean\"] = df[\"Respondent\"].apply(mean_MOE_alert)\n",
    "\n",
    "df[\"EAR_mean\"] = df[\"Respondent\"].apply(mean_EAR_drowsy)\n",
    "df[\"MAR_mean\"] = df[\"Respondent\"].apply(mean_MAR_drowsy)\n",
    "df[\"PUC_mean\"] = df[\"Respondent\"].apply(mean_PUC_drowsy)\n",
    "df[\"MOE_mean\"] = df[\"Respondent\"].apply(mean_MOE_drowsy)\n",
    "\n",
    "df[\"EAR_std\"] = df[\"Respondent\"].apply(std_EAR_alert)\n",
    "df[\"MAR_std\"] = df[\"Respondent\"].apply(std_MAR_alert)\n",
    "df[\"PUC_std\"] = df[\"Respondent\"].apply(std_PUC_alert)\n",
    "df[\"MOE_std\"] = df[\"Respondent\"].apply(std_MOE_alert)\n",
    "\n",
    "df[\"EAR_std\"] = df[\"Respondent\"].apply(std_EAR_drowsy)\n",
    "df[\"MAR_std\"] = df[\"Respondent\"].apply(std_MAR_drowsy)\n",
    "df[\"PUC_std\"] = df[\"Respondent\"].apply(std_PUC_drowsy)\n",
    "df[\"MOE_std\"] = df[\"Respondent\"].apply(std_MOE_drowsy)"
   ]
  },
  {
   "cell_type": "code",
   "execution_count": 17,
   "metadata": {},
   "outputs": [],
   "source": [
    "#df.to_csv('Incomplete.csv',index=False)"
   ]
  },
  {
   "cell_type": "code",
   "execution_count": 3,
   "metadata": {},
   "outputs": [],
   "source": [
    "#df=pd.read_csv('D:/Minor/IMP CSV.csv')"
   ]
  },
  {
   "cell_type": "code",
   "execution_count": 4,
   "metadata": {},
   "outputs": [],
   "source": [
    "#Calculating normalised features for each row in the original dataframe\n",
    "df[\"EAR_N\"] = (df[\"EAR\"]-df[\"EAR_mean\"])/ df[\"EAR_std\"]\n",
    "df[\"MAR_N\"] = (df[\"MAR\"]-df[\"MAR_mean\"])/ df[\"MAR_std\"]\n",
    "df[\"PUC_N\"] = (df[\"PUC\"]-df[\"PUC_mean\"])/ df[\"PUC_std\"]\n",
    "df[\"MOE_N\"] = (df[\"MOE\"]-df[\"MOE_mean\"])/ df[\"MOE_std\"]\n",
    "\n",
    "df[\"EAR_N\"] = (df[\"EAR\"]-df[\"EAR_mean\"])/ df[\"EAR_std\"]\n",
    "df[\"MAR_N\"] = (df[\"MAR\"]-df[\"MAR_mean\"])/ df[\"MAR_std\"]\n",
    "df[\"PUC_N\"] = (df[\"PUC\"]-df[\"PUC_mean\"])/ df[\"PUC_std\"]\n",
    "df[\"MOE_N\"] = (df[\"MOE\"]-df[\"MOE_mean\"])/ df[\"MOE_std\"]"
   ]
  },
  {
   "cell_type": "code",
   "execution_count": 5,
   "metadata": {},
   "outputs": [],
   "source": [
    "#Saving the file to a CSV with all the information\n",
    "df.to_csv('D:/Minor/totalwithallinfoNEWNEW.csv',index=False)"
   ]
  },
  {
   "cell_type": "code",
   "execution_count": 6,
   "metadata": {},
   "outputs": [],
   "source": [
    "#Saving the file to a CSV with all the information\n",
    "df_main = df.drop([\"EAR_mean\",\"MAR_mean\",\"PUC_mean\",\"MOE_mean\",\"EAR_std\",\"MAR_std\",\"PUC_std\",\"MOE_std\"],axis=1)\n",
    "df_main.to_csv('D:/Minor/totalwithmaininfoNEWNEW.csv',index=False)"
   ]
  },
  {
   "cell_type": "code",
   "execution_count": null,
   "metadata": {},
   "outputs": [],
   "source": []
  }
 ],
 "metadata": {
  "kernelspec": {
   "display_name": "Python 3",
   "language": "python",
   "name": "python3"
  },
  "language_info": {
   "codemirror_mode": {
    "name": "ipython",
    "version": 3
   },
   "file_extension": ".py",
   "mimetype": "text/x-python",
   "name": "python",
   "nbconvert_exporter": "python",
   "pygments_lexer": "ipython3",
   "version": "3.7.4"
  }
 },
 "nbformat": 4,
 "nbformat_minor": 2
}
