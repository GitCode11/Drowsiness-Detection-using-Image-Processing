{
 "cells": [
  {
   "cell_type": "code",
   "execution_count": 78,
   "metadata": {},
   "outputs": [],
   "source": [
    "from sklearn.base import BaseEstimator, TransformerMixin\n",
    "import pandas as pd\n",
    "from sklearn.model_selection import train_test_split\n",
    "from sklearn.metrics import roc_curve, roc_auc_score, f1_score\n",
    "from sklearn.naive_bayes import GaussianNB\n",
    "from sklearn.linear_model import LogisticRegression\n",
    "from sklearn.neural_network import MLPClassifier\n",
    "from sklearn.naive_bayes import BernoulliNB\n",
    "from sklearn.tree import DecisionTreeClassifier\n",
    "from sklearn.ensemble import RandomForestClassifier\n",
    "import numpy as np\n",
    "import matplotlib.pyplot as plt\n",
    "import seaborn as sns\n",
    "from sklearn.metrics import accuracy_score\n",
    "from sklearn.metrics import confusion_matrix\n",
    "from sklearn import metrics\n",
    "import warnings"
   ]
  },
  {
   "cell_type": "code",
   "execution_count": 79,
   "metadata": {},
   "outputs": [],
   "source": [
    "df = pd.read_csv('D:/Minor/totalwithmaininfoNEWNEWNEW.csv')\n",
    "df = df.drop(df.columns[0],axis=1)"
   ]
  },
  {
   "cell_type": "code",
   "execution_count": 80,
   "metadata": {},
   "outputs": [
    {
     "data": {
      "text/html": [
       "<div>\n",
       "<style scoped>\n",
       "    .dataframe tbody tr th:only-of-type {\n",
       "        vertical-align: middle;\n",
       "    }\n",
       "\n",
       "    .dataframe tbody tr th {\n",
       "        vertical-align: top;\n",
       "    }\n",
       "\n",
       "    .dataframe thead th {\n",
       "        text-align: right;\n",
       "    }\n",
       "</style>\n",
       "<table border=\"1\" class=\"dataframe\">\n",
       "  <thead>\n",
       "    <tr style=\"text-align: right;\">\n",
       "      <th></th>\n",
       "      <th>EAR</th>\n",
       "      <th>EAR_N</th>\n",
       "      <th>MAR</th>\n",
       "      <th>MAR_N</th>\n",
       "      <th>PUC</th>\n",
       "      <th>PUC_N</th>\n",
       "      <th>MOE</th>\n",
       "      <th>MOE_N</th>\n",
       "      <th>Label</th>\n",
       "    </tr>\n",
       "  </thead>\n",
       "  <tbody>\n",
       "    <tr>\n",
       "      <td>0</td>\n",
       "      <td>0.257930</td>\n",
       "      <td>-0.264316</td>\n",
       "      <td>0.778621</td>\n",
       "      <td>0.682331</td>\n",
       "      <td>0.417689</td>\n",
       "      <td>0.849206</td>\n",
       "      <td>3.018724</td>\n",
       "      <td>0.395741</td>\n",
       "      <td>0</td>\n",
       "    </tr>\n",
       "    <tr>\n",
       "      <td>1</td>\n",
       "      <td>0.274627</td>\n",
       "      <td>1.105607</td>\n",
       "      <td>0.745216</td>\n",
       "      <td>-1.147899</td>\n",
       "      <td>0.366795</td>\n",
       "      <td>-1.102199</td>\n",
       "      <td>2.713560</td>\n",
       "      <td>-1.137307</td>\n",
       "      <td>0</td>\n",
       "    </tr>\n",
       "    <tr>\n",
       "      <td>2</td>\n",
       "      <td>0.250898</td>\n",
       "      <td>-0.841291</td>\n",
       "      <td>0.774664</td>\n",
       "      <td>0.465568</td>\n",
       "      <td>0.402140</td>\n",
       "      <td>0.252993</td>\n",
       "      <td>3.087563</td>\n",
       "      <td>0.741567</td>\n",
       "      <td>0</td>\n",
       "    </tr>\n",
       "    <tr>\n",
       "      <td>3</td>\n",
       "      <td>0.300371</td>\n",
       "      <td>3.217887</td>\n",
       "      <td>0.688505</td>\n",
       "      <td>-4.255129</td>\n",
       "      <td>0.415034</td>\n",
       "      <td>0.747404</td>\n",
       "      <td>2.292181</td>\n",
       "      <td>-3.254179</td>\n",
       "      <td>0</td>\n",
       "    </tr>\n",
       "    <tr>\n",
       "      <td>4</td>\n",
       "      <td>0.293565</td>\n",
       "      <td>2.659484</td>\n",
       "      <td>0.704847</td>\n",
       "      <td>-3.359717</td>\n",
       "      <td>0.448924</td>\n",
       "      <td>2.046805</td>\n",
       "      <td>2.400990</td>\n",
       "      <td>-2.707556</td>\n",
       "      <td>0</td>\n",
       "    </tr>\n",
       "  </tbody>\n",
       "</table>\n",
       "</div>"
      ],
      "text/plain": [
       "        EAR     EAR_N       MAR     MAR_N       PUC     PUC_N       MOE  \\\n",
       "0  0.257930 -0.264316  0.778621  0.682331  0.417689  0.849206  3.018724   \n",
       "1  0.274627  1.105607  0.745216 -1.147899  0.366795 -1.102199  2.713560   \n",
       "2  0.250898 -0.841291  0.774664  0.465568  0.402140  0.252993  3.087563   \n",
       "3  0.300371  3.217887  0.688505 -4.255129  0.415034  0.747404  2.292181   \n",
       "4  0.293565  2.659484  0.704847 -3.359717  0.448924  2.046805  2.400990   \n",
       "\n",
       "      MOE_N  Label  \n",
       "0  0.395741      0  \n",
       "1 -1.137307      0  \n",
       "2  0.741567      0  \n",
       "3 -3.254179      0  \n",
       "4 -2.707556      0  "
      ]
     },
     "execution_count": 80,
     "metadata": {},
     "output_type": "execute_result"
    }
   ],
   "source": [
    "df.head()"
   ]
  },
  {
   "cell_type": "code",
   "execution_count": 81,
   "metadata": {},
   "outputs": [],
   "source": [
    "df[\"Label\"].replace({10: 1}, inplace=True)"
   ]
  },
  {
   "cell_type": "code",
   "execution_count": 82,
   "metadata": {},
   "outputs": [],
   "source": [
    "#train_percentage = 15/19\n",
    "#train_index = int(len(df)*train_percentage)\n",
    "train_index=7160\n",
    "test_index = len(df)-train_index"
   ]
  },
  {
   "cell_type": "code",
   "execution_count": 83,
   "metadata": {},
   "outputs": [],
   "source": [
    "#y=df[\"Label\"]"
   ]
  },
  {
   "cell_type": "code",
   "execution_count": 84,
   "metadata": {},
   "outputs": [],
   "source": [
    "#X=df[[\"EAR\",\"MAR\",\"PUC\",\"MOE\",\"EAR_N\",\"MAR_N\",\"PUC_N\",\"MOE_N\"]]"
   ]
  },
  {
   "cell_type": "code",
   "execution_count": 85,
   "metadata": {},
   "outputs": [],
   "source": [
    "#from sklearn.model_selection import train_test_split\n",
    "#X_train, X_test, Y_train, Y_test = train_test_split(X, y, test_size = 0.1958,shuffle=True,random_state=42)"
   ]
  },
  {
   "cell_type": "code",
   "execution_count": null,
   "metadata": {},
   "outputs": [],
   "source": []
  },
  {
   "cell_type": "code",
   "execution_count": 86,
   "metadata": {},
   "outputs": [
    {
     "data": {
      "text/html": [
       "<div>\n",
       "<style scoped>\n",
       "    .dataframe tbody tr th:only-of-type {\n",
       "        vertical-align: middle;\n",
       "    }\n",
       "\n",
       "    .dataframe tbody tr th {\n",
       "        vertical-align: top;\n",
       "    }\n",
       "\n",
       "    .dataframe thead th {\n",
       "        text-align: right;\n",
       "    }\n",
       "</style>\n",
       "<table border=\"1\" class=\"dataframe\">\n",
       "  <thead>\n",
       "    <tr style=\"text-align: right;\">\n",
       "      <th></th>\n",
       "      <th>EAR</th>\n",
       "      <th>EAR_N</th>\n",
       "      <th>MAR</th>\n",
       "      <th>MAR_N</th>\n",
       "      <th>PUC</th>\n",
       "      <th>PUC_N</th>\n",
       "      <th>MOE</th>\n",
       "      <th>MOE_N</th>\n",
       "      <th>Label</th>\n",
       "    </tr>\n",
       "  </thead>\n",
       "  <tbody>\n",
       "    <tr>\n",
       "      <td>0</td>\n",
       "      <td>0.257930</td>\n",
       "      <td>-0.264316</td>\n",
       "      <td>0.778621</td>\n",
       "      <td>0.682331</td>\n",
       "      <td>0.417689</td>\n",
       "      <td>0.849206</td>\n",
       "      <td>3.018724</td>\n",
       "      <td>0.395741</td>\n",
       "      <td>0</td>\n",
       "    </tr>\n",
       "    <tr>\n",
       "      <td>1</td>\n",
       "      <td>0.274627</td>\n",
       "      <td>1.105607</td>\n",
       "      <td>0.745216</td>\n",
       "      <td>-1.147899</td>\n",
       "      <td>0.366795</td>\n",
       "      <td>-1.102199</td>\n",
       "      <td>2.713560</td>\n",
       "      <td>-1.137307</td>\n",
       "      <td>0</td>\n",
       "    </tr>\n",
       "    <tr>\n",
       "      <td>2</td>\n",
       "      <td>0.250898</td>\n",
       "      <td>-0.841291</td>\n",
       "      <td>0.774664</td>\n",
       "      <td>0.465568</td>\n",
       "      <td>0.402140</td>\n",
       "      <td>0.252993</td>\n",
       "      <td>3.087563</td>\n",
       "      <td>0.741567</td>\n",
       "      <td>0</td>\n",
       "    </tr>\n",
       "    <tr>\n",
       "      <td>3</td>\n",
       "      <td>0.300371</td>\n",
       "      <td>3.217887</td>\n",
       "      <td>0.688505</td>\n",
       "      <td>-4.255129</td>\n",
       "      <td>0.415034</td>\n",
       "      <td>0.747404</td>\n",
       "      <td>2.292181</td>\n",
       "      <td>-3.254179</td>\n",
       "      <td>0</td>\n",
       "    </tr>\n",
       "    <tr>\n",
       "      <td>4</td>\n",
       "      <td>0.293565</td>\n",
       "      <td>2.659484</td>\n",
       "      <td>0.704847</td>\n",
       "      <td>-3.359717</td>\n",
       "      <td>0.448924</td>\n",
       "      <td>2.046805</td>\n",
       "      <td>2.400990</td>\n",
       "      <td>-2.707556</td>\n",
       "      <td>0</td>\n",
       "    </tr>\n",
       "    <tr>\n",
       "      <td>...</td>\n",
       "      <td>...</td>\n",
       "      <td>...</td>\n",
       "      <td>...</td>\n",
       "      <td>...</td>\n",
       "      <td>...</td>\n",
       "      <td>...</td>\n",
       "      <td>...</td>\n",
       "      <td>...</td>\n",
       "      <td>...</td>\n",
       "    </tr>\n",
       "    <tr>\n",
       "      <td>7155</td>\n",
       "      <td>0.296133</td>\n",
       "      <td>2.678521</td>\n",
       "      <td>0.901927</td>\n",
       "      <td>30.327099</td>\n",
       "      <td>0.442319</td>\n",
       "      <td>1.675724</td>\n",
       "      <td>3.045677</td>\n",
       "      <td>-1.623052</td>\n",
       "      <td>1</td>\n",
       "    </tr>\n",
       "    <tr>\n",
       "      <td>7156</td>\n",
       "      <td>0.324833</td>\n",
       "      <td>4.155270</td>\n",
       "      <td>0.874365</td>\n",
       "      <td>16.047977</td>\n",
       "      <td>0.477489</td>\n",
       "      <td>3.017775</td>\n",
       "      <td>2.691733</td>\n",
       "      <td>-2.979233</td>\n",
       "      <td>1</td>\n",
       "    </tr>\n",
       "    <tr>\n",
       "      <td>7157</td>\n",
       "      <td>0.300075</td>\n",
       "      <td>2.881341</td>\n",
       "      <td>0.866377</td>\n",
       "      <td>11.909637</td>\n",
       "      <td>0.452734</td>\n",
       "      <td>2.073171</td>\n",
       "      <td>2.887201</td>\n",
       "      <td>-2.230274</td>\n",
       "      <td>1</td>\n",
       "    </tr>\n",
       "    <tr>\n",
       "      <td>7158</td>\n",
       "      <td>0.304228</td>\n",
       "      <td>3.095007</td>\n",
       "      <td>0.872064</td>\n",
       "      <td>14.855945</td>\n",
       "      <td>0.455013</td>\n",
       "      <td>2.160134</td>\n",
       "      <td>2.866486</td>\n",
       "      <td>-2.309647</td>\n",
       "      <td>1</td>\n",
       "    </tr>\n",
       "    <tr>\n",
       "      <td>7159</td>\n",
       "      <td>0.299696</td>\n",
       "      <td>2.861838</td>\n",
       "      <td>0.877078</td>\n",
       "      <td>17.453423</td>\n",
       "      <td>0.443943</td>\n",
       "      <td>1.737705</td>\n",
       "      <td>2.926558</td>\n",
       "      <td>-2.079475</td>\n",
       "      <td>1</td>\n",
       "    </tr>\n",
       "  </tbody>\n",
       "</table>\n",
       "<p>7160 rows × 9 columns</p>\n",
       "</div>"
      ],
      "text/plain": [
       "           EAR     EAR_N       MAR      MAR_N       PUC     PUC_N       MOE  \\\n",
       "0     0.257930 -0.264316  0.778621   0.682331  0.417689  0.849206  3.018724   \n",
       "1     0.274627  1.105607  0.745216  -1.147899  0.366795 -1.102199  2.713560   \n",
       "2     0.250898 -0.841291  0.774664   0.465568  0.402140  0.252993  3.087563   \n",
       "3     0.300371  3.217887  0.688505  -4.255129  0.415034  0.747404  2.292181   \n",
       "4     0.293565  2.659484  0.704847  -3.359717  0.448924  2.046805  2.400990   \n",
       "...        ...       ...       ...        ...       ...       ...       ...   \n",
       "7155  0.296133  2.678521  0.901927  30.327099  0.442319  1.675724  3.045677   \n",
       "7156  0.324833  4.155270  0.874365  16.047977  0.477489  3.017775  2.691733   \n",
       "7157  0.300075  2.881341  0.866377  11.909637  0.452734  2.073171  2.887201   \n",
       "7158  0.304228  3.095007  0.872064  14.855945  0.455013  2.160134  2.866486   \n",
       "7159  0.299696  2.861838  0.877078  17.453423  0.443943  1.737705  2.926558   \n",
       "\n",
       "         MOE_N  Label  \n",
       "0     0.395741      0  \n",
       "1    -1.137307      0  \n",
       "2     0.741567      0  \n",
       "3    -3.254179      0  \n",
       "4    -2.707556      0  \n",
       "...        ...    ...  \n",
       "7155 -1.623052      1  \n",
       "7156 -2.979233      1  \n",
       "7157 -2.230274      1  \n",
       "7158 -2.309647      1  \n",
       "7159 -2.079475      1  \n",
       "\n",
       "[7160 rows x 9 columns]"
      ]
     },
     "execution_count": 86,
     "metadata": {},
     "output_type": "execute_result"
    }
   ],
   "source": [
    "df_train = df[:train_index]\n",
    "df_test = df[-test_index:]\n",
    "df_train"
   ]
  },
  {
   "cell_type": "code",
   "execution_count": null,
   "metadata": {},
   "outputs": [],
   "source": []
  },
  {
   "cell_type": "code",
   "execution_count": 87,
   "metadata": {},
   "outputs": [],
   "source": [
    "X_test = df_test.drop([\"Label\"],axis=1)\n",
    "Y_test = df_test[\"Label\"]"
   ]
  },
  {
   "cell_type": "code",
   "execution_count": 88,
   "metadata": {},
   "outputs": [],
   "source": [
    "X_train = df_train.drop('Label',axis=1)\n",
    "Y_train = df_train['Label']"
   ]
  },
  {
   "cell_type": "code",
   "execution_count": 89,
   "metadata": {},
   "outputs": [
    {
     "data": {
      "text/html": [
       "<div>\n",
       "<style scoped>\n",
       "    .dataframe tbody tr th:only-of-type {\n",
       "        vertical-align: middle;\n",
       "    }\n",
       "\n",
       "    .dataframe tbody tr th {\n",
       "        vertical-align: top;\n",
       "    }\n",
       "\n",
       "    .dataframe thead th {\n",
       "        text-align: right;\n",
       "    }\n",
       "</style>\n",
       "<table border=\"1\" class=\"dataframe\">\n",
       "  <thead>\n",
       "    <tr style=\"text-align: right;\">\n",
       "      <th></th>\n",
       "      <th>EAR</th>\n",
       "      <th>EAR_N</th>\n",
       "      <th>MAR</th>\n",
       "      <th>MAR_N</th>\n",
       "      <th>PUC</th>\n",
       "      <th>PUC_N</th>\n",
       "      <th>MOE</th>\n",
       "      <th>MOE_N</th>\n",
       "    </tr>\n",
       "  </thead>\n",
       "  <tbody>\n",
       "    <tr>\n",
       "      <td>0</td>\n",
       "      <td>0.257930</td>\n",
       "      <td>-0.264316</td>\n",
       "      <td>0.778621</td>\n",
       "      <td>0.682331</td>\n",
       "      <td>0.417689</td>\n",
       "      <td>0.849206</td>\n",
       "      <td>3.018724</td>\n",
       "      <td>0.395741</td>\n",
       "    </tr>\n",
       "    <tr>\n",
       "      <td>1</td>\n",
       "      <td>0.274627</td>\n",
       "      <td>1.105607</td>\n",
       "      <td>0.745216</td>\n",
       "      <td>-1.147899</td>\n",
       "      <td>0.366795</td>\n",
       "      <td>-1.102199</td>\n",
       "      <td>2.713560</td>\n",
       "      <td>-1.137307</td>\n",
       "    </tr>\n",
       "    <tr>\n",
       "      <td>2</td>\n",
       "      <td>0.250898</td>\n",
       "      <td>-0.841291</td>\n",
       "      <td>0.774664</td>\n",
       "      <td>0.465568</td>\n",
       "      <td>0.402140</td>\n",
       "      <td>0.252993</td>\n",
       "      <td>3.087563</td>\n",
       "      <td>0.741567</td>\n",
       "    </tr>\n",
       "    <tr>\n",
       "      <td>3</td>\n",
       "      <td>0.300371</td>\n",
       "      <td>3.217887</td>\n",
       "      <td>0.688505</td>\n",
       "      <td>-4.255129</td>\n",
       "      <td>0.415034</td>\n",
       "      <td>0.747404</td>\n",
       "      <td>2.292181</td>\n",
       "      <td>-3.254179</td>\n",
       "    </tr>\n",
       "    <tr>\n",
       "      <td>4</td>\n",
       "      <td>0.293565</td>\n",
       "      <td>2.659484</td>\n",
       "      <td>0.704847</td>\n",
       "      <td>-3.359717</td>\n",
       "      <td>0.448924</td>\n",
       "      <td>2.046805</td>\n",
       "      <td>2.400990</td>\n",
       "      <td>-2.707556</td>\n",
       "    </tr>\n",
       "    <tr>\n",
       "      <td>...</td>\n",
       "      <td>...</td>\n",
       "      <td>...</td>\n",
       "      <td>...</td>\n",
       "      <td>...</td>\n",
       "      <td>...</td>\n",
       "      <td>...</td>\n",
       "      <td>...</td>\n",
       "      <td>...</td>\n",
       "    </tr>\n",
       "    <tr>\n",
       "      <td>7155</td>\n",
       "      <td>0.296133</td>\n",
       "      <td>2.678521</td>\n",
       "      <td>0.901927</td>\n",
       "      <td>30.327099</td>\n",
       "      <td>0.442319</td>\n",
       "      <td>1.675724</td>\n",
       "      <td>3.045677</td>\n",
       "      <td>-1.623052</td>\n",
       "    </tr>\n",
       "    <tr>\n",
       "      <td>7156</td>\n",
       "      <td>0.324833</td>\n",
       "      <td>4.155270</td>\n",
       "      <td>0.874365</td>\n",
       "      <td>16.047977</td>\n",
       "      <td>0.477489</td>\n",
       "      <td>3.017775</td>\n",
       "      <td>2.691733</td>\n",
       "      <td>-2.979233</td>\n",
       "    </tr>\n",
       "    <tr>\n",
       "      <td>7157</td>\n",
       "      <td>0.300075</td>\n",
       "      <td>2.881341</td>\n",
       "      <td>0.866377</td>\n",
       "      <td>11.909637</td>\n",
       "      <td>0.452734</td>\n",
       "      <td>2.073171</td>\n",
       "      <td>2.887201</td>\n",
       "      <td>-2.230274</td>\n",
       "    </tr>\n",
       "    <tr>\n",
       "      <td>7158</td>\n",
       "      <td>0.304228</td>\n",
       "      <td>3.095007</td>\n",
       "      <td>0.872064</td>\n",
       "      <td>14.855945</td>\n",
       "      <td>0.455013</td>\n",
       "      <td>2.160134</td>\n",
       "      <td>2.866486</td>\n",
       "      <td>-2.309647</td>\n",
       "    </tr>\n",
       "    <tr>\n",
       "      <td>7159</td>\n",
       "      <td>0.299696</td>\n",
       "      <td>2.861838</td>\n",
       "      <td>0.877078</td>\n",
       "      <td>17.453423</td>\n",
       "      <td>0.443943</td>\n",
       "      <td>1.737705</td>\n",
       "      <td>2.926558</td>\n",
       "      <td>-2.079475</td>\n",
       "    </tr>\n",
       "  </tbody>\n",
       "</table>\n",
       "<p>7160 rows × 8 columns</p>\n",
       "</div>"
      ],
      "text/plain": [
       "           EAR     EAR_N       MAR      MAR_N       PUC     PUC_N       MOE  \\\n",
       "0     0.257930 -0.264316  0.778621   0.682331  0.417689  0.849206  3.018724   \n",
       "1     0.274627  1.105607  0.745216  -1.147899  0.366795 -1.102199  2.713560   \n",
       "2     0.250898 -0.841291  0.774664   0.465568  0.402140  0.252993  3.087563   \n",
       "3     0.300371  3.217887  0.688505  -4.255129  0.415034  0.747404  2.292181   \n",
       "4     0.293565  2.659484  0.704847  -3.359717  0.448924  2.046805  2.400990   \n",
       "...        ...       ...       ...        ...       ...       ...       ...   \n",
       "7155  0.296133  2.678521  0.901927  30.327099  0.442319  1.675724  3.045677   \n",
       "7156  0.324833  4.155270  0.874365  16.047977  0.477489  3.017775  2.691733   \n",
       "7157  0.300075  2.881341  0.866377  11.909637  0.452734  2.073171  2.887201   \n",
       "7158  0.304228  3.095007  0.872064  14.855945  0.455013  2.160134  2.866486   \n",
       "7159  0.299696  2.861838  0.877078  17.453423  0.443943  1.737705  2.926558   \n",
       "\n",
       "         MOE_N  \n",
       "0     0.395741  \n",
       "1    -1.137307  \n",
       "2     0.741567  \n",
       "3    -3.254179  \n",
       "4    -2.707556  \n",
       "...        ...  \n",
       "7155 -1.623052  \n",
       "7156 -2.979233  \n",
       "7157 -2.230274  \n",
       "7158 -2.309647  \n",
       "7159 -2.079475  \n",
       "\n",
       "[7160 rows x 8 columns]"
      ]
     },
     "execution_count": 89,
     "metadata": {},
     "output_type": "execute_result"
    }
   ],
   "source": [
    "X_train"
   ]
  },
  {
   "cell_type": "code",
   "execution_count": 90,
   "metadata": {},
   "outputs": [],
   "source": [
    "def average(y_pred):\n",
    "    for i in range(len(y_pred)):\n",
    "        if i % 240 == 0 or (i+1) % 240 == 0:\n",
    "            pass\n",
    "        else: \n",
    "            average = float(y_pred[i-1] + y_pred[i] + y_pred[i+1])/3\n",
    "            if average >= 0.5:\n",
    "                y_pred[i] = 1\n",
    "            else:\n",
    "                y_pred[i] = 0\n",
    "    return y_pred"
   ]
  },
  {
   "cell_type": "code",
   "execution_count": null,
   "metadata": {},
   "outputs": [],
   "source": []
  },
  {
   "cell_type": "markdown",
   "metadata": {},
   "source": [
    "# 1. Logistic Regression"
   ]
  },
  {
   "cell_type": "code",
   "execution_count": 91,
   "metadata": {},
   "outputs": [
    {
     "name": "stderr",
     "output_type": "stream",
     "text": [
      "C:\\Users\\Sagar\\Anaconda3\\lib\\site-packages\\sklearn\\linear_model\\logistic.py:432: FutureWarning: Default solver will be changed to 'lbfgs' in 0.22. Specify a solver to silence this warning.\n",
      "  FutureWarning)\n"
     ]
    },
    {
     "name": "stdout",
     "output_type": "stream",
     "text": [
      "[0.7567708333333333, 0.7463335143943508, 0.7878808593750001]\n",
      "[[766 194]\n",
      " [273 687]]\n"
     ]
    }
   ],
   "source": [
    "# Fitting Logistic Regression Model on training dataset\n",
    "clf = LogisticRegression().fit(X_train, Y_train)\n",
    "\n",
    "# Prediction on testing data\n",
    "y_pred_1 = clf.predict(X_test)\n",
    "\n",
    "# Averaging out the predictions\n",
    "y_pred_1 = average(y_pred_1)\n",
    "\n",
    "# Evaluation\n",
    "y_score_1 = clf.predict_proba(X_test)[:,1]\n",
    "acc1 = accuracy_score(Y_test, y_pred_1)\n",
    "f1_score_1 = metrics.f1_score(Y_test, y_pred_1)\n",
    "roc_1 = metrics.roc_auc_score(Y_test, y_score_1)\n",
    "\n",
    "print([acc1,f1_score_1,roc_1])\n",
    "print(confusion_matrix(Y_test, y_pred_1))"
   ]
  },
  {
   "cell_type": "code",
   "execution_count": 92,
   "metadata": {},
   "outputs": [
    {
     "data": {
      "text/plain": [
       "['LogReg_model.pkl']"
      ]
     },
     "execution_count": 92,
     "metadata": {},
     "output_type": "execute_result"
    }
   ],
   "source": [
    "from sklearn.externals import joblib\n",
    "\n",
    "joblib_file = \"LogReg_model.pkl\"\n",
    "joblib.dump(clf, joblib_file)"
   ]
  },
  {
   "cell_type": "markdown",
   "metadata": {},
   "source": [
    "# 2. Naive Bayes"
   ]
  },
  {
   "cell_type": "code",
   "execution_count": 93,
   "metadata": {},
   "outputs": [
    {
     "name": "stdout",
     "output_type": "stream",
     "text": [
      "[0.6479166666666667, 0.5961768219832736, 0.6516097005208332]\n",
      "[[745 215]\n",
      " [461 499]]\n"
     ]
    }
   ],
   "source": [
    "clf_NB = GaussianNB()\n",
    "clf_NB.fit(X_train, Y_train)\n",
    "\n",
    "pred_NB = clf_NB.predict(X_test)\n",
    "pred_NB = average(pred_NB)\n",
    "\n",
    "y_score_2 = clf_NB.predict_proba(X_test)[:,1]\n",
    "acc2 = accuracy_score(Y_test, pred_NB)\n",
    "f1_score_2 = metrics.f1_score(Y_test, pred_NB)\n",
    "roc_2 = metrics.roc_auc_score(Y_test, y_score_2)\n",
    "\n",
    "print([acc2,f1_score_2,roc_2])\n",
    "print(confusion_matrix(Y_test, pred_NB))"
   ]
  },
  {
   "cell_type": "code",
   "execution_count": null,
   "metadata": {},
   "outputs": [],
   "source": []
  },
  {
   "cell_type": "markdown",
   "metadata": {},
   "source": [
    "# 3. KNN"
   ]
  },
  {
   "cell_type": "code",
   "execution_count": 94,
   "metadata": {},
   "outputs": [],
   "source": [
    "acc3_list = []\n",
    "f1_score3_list = []\n",
    "roc_3_list = []\n",
    "from sklearn.neighbors import KNeighborsClassifier\n",
    "for i in range(1,30):\n",
    "    neigh = KNeighborsClassifier(n_neighbors=i)\n",
    "    neigh.fit(X_train, Y_train) \n",
    "    pred_KN = neigh.predict(X_test)\n",
    "    pred_KN = average(pred_KN)\n",
    "    y_score_3 = neigh.predict_proba(X_test)[:,1]\n",
    "    acc3_list.append(accuracy_score(Y_test, pred_KN))\n",
    "    f1_score3_list.append(metrics.f1_score(Y_test, pred_KN))\n",
    "    roc_3_list.append(metrics.roc_auc_score(Y_test, y_score_3))"
   ]
  },
  {
   "cell_type": "code",
   "execution_count": 95,
   "metadata": {},
   "outputs": [
    {
     "data": {
      "text/plain": [
       "26"
      ]
     },
     "execution_count": 95,
     "metadata": {},
     "output_type": "execute_result"
    }
   ],
   "source": [
    "acc3_list.index(max(acc3_list))+1"
   ]
  },
  {
   "cell_type": "code",
   "execution_count": 96,
   "metadata": {},
   "outputs": [
    {
     "name": "stdout",
     "output_type": "stream",
     "text": [
      "[0.6515625, 0.6766553890768486, 0.6170030381944445]\n",
      "[[551 409]\n",
      " [260 700]]\n"
     ]
    }
   ],
   "source": [
    "neigh = KNeighborsClassifier(n_neighbors=acc3_list.index(max(acc3_list))+1)\n",
    "neigh.fit(X_train, Y_train) \n",
    "pred_KN = neigh.predict(X_test)\n",
    "pred_KN = average(pred_KN)\n",
    "y_score_3 = neigh.predict_proba(X_test)[:,1]\n",
    "acc3 = accuracy_score(Y_test, pred_KN)\n",
    "f1_score_3 = metrics.f1_score(Y_test, pred_KN)\n",
    "roc_3 = metrics.roc_auc_score(Y_test, y_score_3)\n",
    "print([acc3,f1_score_3,roc_3])\n",
    "print(confusion_matrix(Y_test, pred_KN))"
   ]
  },
  {
   "cell_type": "markdown",
   "metadata": {},
   "source": [
    "# 4. MLP"
   ]
  },
  {
   "cell_type": "code",
   "execution_count": 97,
   "metadata": {},
   "outputs": [
    {
     "name": "stderr",
     "output_type": "stream",
     "text": [
      "C:\\Users\\Sagar\\Anaconda3\\lib\\site-packages\\sklearn\\neural_network\\multilayer_perceptron.py:566: ConvergenceWarning: Stochastic Optimizer: Maximum iterations (200) reached and the optimization hasn't converged yet.\n",
      "  % self.max_iter, ConvergenceWarning)\n",
      "C:\\Users\\Sagar\\Anaconda3\\lib\\site-packages\\sklearn\\neural_network\\multilayer_perceptron.py:566: ConvergenceWarning: Stochastic Optimizer: Maximum iterations (200) reached and the optimization hasn't converged yet.\n",
      "  % self.max_iter, ConvergenceWarning)\n",
      "C:\\Users\\Sagar\\Anaconda3\\lib\\site-packages\\sklearn\\neural_network\\multilayer_perceptron.py:566: ConvergenceWarning: Stochastic Optimizer: Maximum iterations (200) reached and the optimization hasn't converged yet.\n",
      "  % self.max_iter, ConvergenceWarning)\n",
      "C:\\Users\\Sagar\\Anaconda3\\lib\\site-packages\\sklearn\\neural_network\\multilayer_perceptron.py:566: ConvergenceWarning: Stochastic Optimizer: Maximum iterations (200) reached and the optimization hasn't converged yet.\n",
      "  % self.max_iter, ConvergenceWarning)\n",
      "C:\\Users\\Sagar\\Anaconda3\\lib\\site-packages\\sklearn\\neural_network\\multilayer_perceptron.py:566: ConvergenceWarning: Stochastic Optimizer: Maximum iterations (200) reached and the optimization hasn't converged yet.\n",
      "  % self.max_iter, ConvergenceWarning)\n",
      "C:\\Users\\Sagar\\Anaconda3\\lib\\site-packages\\sklearn\\neural_network\\multilayer_perceptron.py:566: ConvergenceWarning: Stochastic Optimizer: Maximum iterations (200) reached and the optimization hasn't converged yet.\n",
      "  % self.max_iter, ConvergenceWarning)\n",
      "C:\\Users\\Sagar\\Anaconda3\\lib\\site-packages\\sklearn\\neural_network\\multilayer_perceptron.py:566: ConvergenceWarning: Stochastic Optimizer: Maximum iterations (200) reached and the optimization hasn't converged yet.\n",
      "  % self.max_iter, ConvergenceWarning)\n",
      "C:\\Users\\Sagar\\Anaconda3\\lib\\site-packages\\sklearn\\neural_network\\multilayer_perceptron.py:566: ConvergenceWarning: Stochastic Optimizer: Maximum iterations (200) reached and the optimization hasn't converged yet.\n",
      "  % self.max_iter, ConvergenceWarning)\n",
      "C:\\Users\\Sagar\\Anaconda3\\lib\\site-packages\\sklearn\\neural_network\\multilayer_perceptron.py:566: ConvergenceWarning: Stochastic Optimizer: Maximum iterations (200) reached and the optimization hasn't converged yet.\n",
      "  % self.max_iter, ConvergenceWarning)\n",
      "C:\\Users\\Sagar\\Anaconda3\\lib\\site-packages\\sklearn\\neural_network\\multilayer_perceptron.py:566: ConvergenceWarning: Stochastic Optimizer: Maximum iterations (200) reached and the optimization hasn't converged yet.\n",
      "  % self.max_iter, ConvergenceWarning)\n",
      "C:\\Users\\Sagar\\Anaconda3\\lib\\site-packages\\sklearn\\neural_network\\multilayer_perceptron.py:566: ConvergenceWarning: Stochastic Optimizer: Maximum iterations (200) reached and the optimization hasn't converged yet.\n",
      "  % self.max_iter, ConvergenceWarning)\n",
      "C:\\Users\\Sagar\\Anaconda3\\lib\\site-packages\\sklearn\\neural_network\\multilayer_perceptron.py:566: ConvergenceWarning: Stochastic Optimizer: Maximum iterations (200) reached and the optimization hasn't converged yet.\n",
      "  % self.max_iter, ConvergenceWarning)\n",
      "C:\\Users\\Sagar\\Anaconda3\\lib\\site-packages\\sklearn\\neural_network\\multilayer_perceptron.py:566: ConvergenceWarning: Stochastic Optimizer: Maximum iterations (200) reached and the optimization hasn't converged yet.\n",
      "  % self.max_iter, ConvergenceWarning)\n",
      "C:\\Users\\Sagar\\Anaconda3\\lib\\site-packages\\sklearn\\neural_network\\multilayer_perceptron.py:566: ConvergenceWarning: Stochastic Optimizer: Maximum iterations (200) reached and the optimization hasn't converged yet.\n",
      "  % self.max_iter, ConvergenceWarning)\n",
      "C:\\Users\\Sagar\\Anaconda3\\lib\\site-packages\\sklearn\\neural_network\\multilayer_perceptron.py:566: ConvergenceWarning: Stochastic Optimizer: Maximum iterations (200) reached and the optimization hasn't converged yet.\n",
      "  % self.max_iter, ConvergenceWarning)\n",
      "C:\\Users\\Sagar\\Anaconda3\\lib\\site-packages\\sklearn\\neural_network\\multilayer_perceptron.py:566: ConvergenceWarning: Stochastic Optimizer: Maximum iterations (200) reached and the optimization hasn't converged yet.\n",
      "  % self.max_iter, ConvergenceWarning)\n",
      "C:\\Users\\Sagar\\Anaconda3\\lib\\site-packages\\sklearn\\neural_network\\multilayer_perceptron.py:566: ConvergenceWarning: Stochastic Optimizer: Maximum iterations (200) reached and the optimization hasn't converged yet.\n",
      "  % self.max_iter, ConvergenceWarning)\n",
      "C:\\Users\\Sagar\\Anaconda3\\lib\\site-packages\\sklearn\\neural_network\\multilayer_perceptron.py:566: ConvergenceWarning: Stochastic Optimizer: Maximum iterations (200) reached and the optimization hasn't converged yet.\n",
      "  % self.max_iter, ConvergenceWarning)\n",
      "C:\\Users\\Sagar\\Anaconda3\\lib\\site-packages\\sklearn\\neural_network\\multilayer_perceptron.py:566: ConvergenceWarning: Stochastic Optimizer: Maximum iterations (200) reached and the optimization hasn't converged yet.\n",
      "  % self.max_iter, ConvergenceWarning)\n",
      "C:\\Users\\Sagar\\Anaconda3\\lib\\site-packages\\sklearn\\neural_network\\multilayer_perceptron.py:566: ConvergenceWarning: Stochastic Optimizer: Maximum iterations (200) reached and the optimization hasn't converged yet.\n",
      "  % self.max_iter, ConvergenceWarning)\n",
      "C:\\Users\\Sagar\\Anaconda3\\lib\\site-packages\\sklearn\\neural_network\\multilayer_perceptron.py:566: ConvergenceWarning: Stochastic Optimizer: Maximum iterations (200) reached and the optimization hasn't converged yet.\n",
      "  % self.max_iter, ConvergenceWarning)\n",
      "C:\\Users\\Sagar\\Anaconda3\\lib\\site-packages\\sklearn\\neural_network\\multilayer_perceptron.py:566: ConvergenceWarning: Stochastic Optimizer: Maximum iterations (200) reached and the optimization hasn't converged yet.\n",
      "  % self.max_iter, ConvergenceWarning)\n",
      "C:\\Users\\Sagar\\Anaconda3\\lib\\site-packages\\sklearn\\neural_network\\multilayer_perceptron.py:566: ConvergenceWarning: Stochastic Optimizer: Maximum iterations (200) reached and the optimization hasn't converged yet.\n",
      "  % self.max_iter, ConvergenceWarning)\n",
      "C:\\Users\\Sagar\\Anaconda3\\lib\\site-packages\\sklearn\\neural_network\\multilayer_perceptron.py:566: ConvergenceWarning: Stochastic Optimizer: Maximum iterations (200) reached and the optimization hasn't converged yet.\n",
      "  % self.max_iter, ConvergenceWarning)\n",
      "C:\\Users\\Sagar\\Anaconda3\\lib\\site-packages\\sklearn\\neural_network\\multilayer_perceptron.py:566: ConvergenceWarning: Stochastic Optimizer: Maximum iterations (200) reached and the optimization hasn't converged yet.\n",
      "  % self.max_iter, ConvergenceWarning)\n",
      "C:\\Users\\Sagar\\Anaconda3\\lib\\site-packages\\sklearn\\neural_network\\multilayer_perceptron.py:566: ConvergenceWarning: Stochastic Optimizer: Maximum iterations (200) reached and the optimization hasn't converged yet.\n",
      "  % self.max_iter, ConvergenceWarning)\n",
      "C:\\Users\\Sagar\\Anaconda3\\lib\\site-packages\\sklearn\\neural_network\\multilayer_perceptron.py:566: ConvergenceWarning: Stochastic Optimizer: Maximum iterations (200) reached and the optimization hasn't converged yet.\n",
      "  % self.max_iter, ConvergenceWarning)\n",
      "C:\\Users\\Sagar\\Anaconda3\\lib\\site-packages\\sklearn\\neural_network\\multilayer_perceptron.py:566: ConvergenceWarning: Stochastic Optimizer: Maximum iterations (200) reached and the optimization hasn't converged yet.\n",
      "  % self.max_iter, ConvergenceWarning)\n",
      "C:\\Users\\Sagar\\Anaconda3\\lib\\site-packages\\sklearn\\neural_network\\multilayer_perceptron.py:566: ConvergenceWarning: Stochastic Optimizer: Maximum iterations (200) reached and the optimization hasn't converged yet.\n",
      "  % self.max_iter, ConvergenceWarning)\n",
      "C:\\Users\\Sagar\\Anaconda3\\lib\\site-packages\\sklearn\\neural_network\\multilayer_perceptron.py:566: ConvergenceWarning: Stochastic Optimizer: Maximum iterations (200) reached and the optimization hasn't converged yet.\n",
      "  % self.max_iter, ConvergenceWarning)\n",
      "C:\\Users\\Sagar\\Anaconda3\\lib\\site-packages\\sklearn\\neural_network\\multilayer_perceptron.py:566: ConvergenceWarning: Stochastic Optimizer: Maximum iterations (200) reached and the optimization hasn't converged yet.\n",
      "  % self.max_iter, ConvergenceWarning)\n",
      "C:\\Users\\Sagar\\Anaconda3\\lib\\site-packages\\sklearn\\neural_network\\multilayer_perceptron.py:566: ConvergenceWarning: Stochastic Optimizer: Maximum iterations (200) reached and the optimization hasn't converged yet.\n",
      "  % self.max_iter, ConvergenceWarning)\n",
      "C:\\Users\\Sagar\\Anaconda3\\lib\\site-packages\\sklearn\\neural_network\\multilayer_perceptron.py:566: ConvergenceWarning: Stochastic Optimizer: Maximum iterations (200) reached and the optimization hasn't converged yet.\n",
      "  % self.max_iter, ConvergenceWarning)\n",
      "C:\\Users\\Sagar\\Anaconda3\\lib\\site-packages\\sklearn\\neural_network\\multilayer_perceptron.py:566: ConvergenceWarning: Stochastic Optimizer: Maximum iterations (200) reached and the optimization hasn't converged yet.\n",
      "  % self.max_iter, ConvergenceWarning)\n",
      "C:\\Users\\Sagar\\Anaconda3\\lib\\site-packages\\sklearn\\neural_network\\multilayer_perceptron.py:566: ConvergenceWarning: Stochastic Optimizer: Maximum iterations (200) reached and the optimization hasn't converged yet.\n",
      "  % self.max_iter, ConvergenceWarning)\n",
      "C:\\Users\\Sagar\\Anaconda3\\lib\\site-packages\\sklearn\\neural_network\\multilayer_perceptron.py:566: ConvergenceWarning: Stochastic Optimizer: Maximum iterations (200) reached and the optimization hasn't converged yet.\n",
      "  % self.max_iter, ConvergenceWarning)\n",
      "C:\\Users\\Sagar\\Anaconda3\\lib\\site-packages\\sklearn\\neural_network\\multilayer_perceptron.py:566: ConvergenceWarning: Stochastic Optimizer: Maximum iterations (200) reached and the optimization hasn't converged yet.\n",
      "  % self.max_iter, ConvergenceWarning)\n",
      "C:\\Users\\Sagar\\Anaconda3\\lib\\site-packages\\sklearn\\neural_network\\multilayer_perceptron.py:566: ConvergenceWarning: Stochastic Optimizer: Maximum iterations (200) reached and the optimization hasn't converged yet.\n",
      "  % self.max_iter, ConvergenceWarning)\n",
      "C:\\Users\\Sagar\\Anaconda3\\lib\\site-packages\\sklearn\\neural_network\\multilayer_perceptron.py:566: ConvergenceWarning: Stochastic Optimizer: Maximum iterations (200) reached and the optimization hasn't converged yet.\n",
      "  % self.max_iter, ConvergenceWarning)\n",
      "C:\\Users\\Sagar\\Anaconda3\\lib\\site-packages\\sklearn\\neural_network\\multilayer_perceptron.py:566: ConvergenceWarning: Stochastic Optimizer: Maximum iterations (200) reached and the optimization hasn't converged yet.\n",
      "  % self.max_iter, ConvergenceWarning)\n",
      "C:\\Users\\Sagar\\Anaconda3\\lib\\site-packages\\sklearn\\neural_network\\multilayer_perceptron.py:566: ConvergenceWarning: Stochastic Optimizer: Maximum iterations (200) reached and the optimization hasn't converged yet.\n",
      "  % self.max_iter, ConvergenceWarning)\n",
      "C:\\Users\\Sagar\\Anaconda3\\lib\\site-packages\\sklearn\\neural_network\\multilayer_perceptron.py:566: ConvergenceWarning: Stochastic Optimizer: Maximum iterations (200) reached and the optimization hasn't converged yet.\n",
      "  % self.max_iter, ConvergenceWarning)\n"
     ]
    }
   ],
   "source": [
    "F1_score_4_list = []\n",
    "acc4_list = []\n",
    "roc_4_list = []\n",
    "mlp = []\n",
    "# CAN ADD MAX_ITER parameter\n",
    "hidden_units = [10,20,30,40,50,60,70]\n",
    "optimizer = ['sgd','adam','lbfgs']\n",
    "activation = ['logistic','tanh','relu']\n",
    "for j in activation:\n",
    "    for i in optimizer:\n",
    "        for k in hidden_units:\n",
    "            clf_MLP = MLPClassifier(hidden_layer_sizes= k, activation =  j, solver= i)\n",
    "            clf_MLP.fit(X_train, Y_train)\n",
    "            pred_MLP = clf_MLP.predict(X_test)\n",
    "            pred_MLP = average(pred_MLP)\n",
    "            y_score_4 = clf_MLP.predict_proba(X_test)[:,1]\n",
    "            acc4_list.append(accuracy_score(Y_test,pred_MLP))\n",
    "            roc_4_list.append(metrics.roc_auc_score(Y_test, y_score_4))\n",
    "            F1_score_4_list.append(metrics.f1_score(Y_test, pred_MLP))\n",
    "            mlp.append([j,i,k])"
   ]
  },
  {
   "cell_type": "code",
   "execution_count": 98,
   "metadata": {},
   "outputs": [
    {
     "name": "stdout",
     "output_type": "stream",
     "text": [
      "Best Accuracy:  0.8020833333333334\n",
      "Best Combination: ['relu', 'sgd', 50]\n"
     ]
    }
   ],
   "source": [
    "print(\"Best Accuracy: \", max(acc4_list))\n",
    "min_index = acc4_list.index(max(acc4_list))\n",
    "print(\"Best Combination:\", mlp[min_index])"
   ]
  },
  {
   "cell_type": "code",
   "execution_count": 99,
   "metadata": {},
   "outputs": [
    {
     "name": "stdout",
     "output_type": "stream",
     "text": [
      "[0.68125, 0.7262969588550984, 0.6942154947916666]\n",
      "[[496 464]\n",
      " [148 812]]\n"
     ]
    },
    {
     "name": "stderr",
     "output_type": "stream",
     "text": [
      "C:\\Users\\Sagar\\Anaconda3\\lib\\site-packages\\sklearn\\neural_network\\multilayer_perceptron.py:566: ConvergenceWarning: Stochastic Optimizer: Maximum iterations (200) reached and the optimization hasn't converged yet.\n",
      "  % self.max_iter, ConvergenceWarning)\n"
     ]
    }
   ],
   "source": [
    "clf_MLP = MLPClassifier(hidden_layer_sizes= mlp[min_index][2], activation =  mlp[min_index][0], solver= mlp[min_index][1])\n",
    "clf_MLP.fit(X_train, Y_train)\n",
    "pred_MLP = clf_MLP.predict(X_test)\n",
    "pred_MLP = average(pred_MLP)\n",
    "y_score_4 = clf_MLP.predict_proba(X_test)[:,1]\n",
    "acc4 = accuracy_score(Y_test,pred_MLP)\n",
    "f1_score_4 = metrics.f1_score(Y_test, pred_MLP)\n",
    "roc_4 = metrics.roc_auc_score(Y_test, y_score_4)\n",
    "print([acc4,f1_score_4,roc_4])\n",
    "print(confusion_matrix(Y_test, pred_MLP))"
   ]
  },
  {
   "cell_type": "markdown",
   "metadata": {},
   "source": [
    "# 5. Decision Tree"
   ]
  },
  {
   "cell_type": "code",
   "execution_count": 100,
   "metadata": {},
   "outputs": [
    {
     "name": "stdout",
     "output_type": "stream",
     "text": [
      "0.6541666666666667\n"
     ]
    }
   ],
   "source": [
    "acc5=[]\n",
    "max_depth = []\n",
    "for i in [2,3,4,5,6,7,8,9,10]:\n",
    "    clf_DT = DecisionTreeClassifier(random_state=0, max_depth = i)\n",
    "    clf_DT.fit(X_train, Y_train)\n",
    "    pred_DT = clf_DT.predict(X_test)\n",
    "    pred_DT = average(pred_DT)\n",
    "    acc5.append(accuracy_score(pred_DT, Y_test))\n",
    "    max_depth.append(i)\n",
    "print (max(acc5))"
   ]
  },
  {
   "cell_type": "code",
   "execution_count": 101,
   "metadata": {},
   "outputs": [
    {
     "data": {
      "text/plain": [
       "5"
      ]
     },
     "execution_count": 101,
     "metadata": {},
     "output_type": "execute_result"
    }
   ],
   "source": [
    "best_depth = max_depth[acc5.index(max(acc5))]\n",
    "best_depth"
   ]
  },
  {
   "cell_type": "code",
   "execution_count": 102,
   "metadata": {},
   "outputs": [
    {
     "name": "stdout",
     "output_type": "stream",
     "text": [
      "[0.6541666666666667, 0.6422413793103449, 0.6460026041666665]\n",
      "[[660 300]\n",
      " [364 596]]\n"
     ]
    }
   ],
   "source": [
    "clf_DT = DecisionTreeClassifier(random_state=0, max_depth = best_depth)\n",
    "clf_DT.fit(X_train, Y_train)\n",
    "pred_DT = clf_DT.predict(X_test)\n",
    "pred_DT = average(pred_DT)\n",
    "y_score_5 = clf_DT.predict_proba(X_test)[:,1]\n",
    "acc5 = accuracy_score(Y_test, pred_DT)\n",
    "f1_score_5 = metrics.f1_score(Y_test, pred_DT)\n",
    "roc_5 = metrics.roc_auc_score(Y_test, y_score_5)\n",
    "print([acc5,f1_score_5,roc_5])\n",
    "print(confusion_matrix(Y_test, pred_DT))"
   ]
  },
  {
   "cell_type": "markdown",
   "metadata": {},
   "source": [
    "# 6. Random Forest"
   ]
  },
  {
   "cell_type": "code",
   "execution_count": 103,
   "metadata": {},
   "outputs": [
    {
     "name": "stderr",
     "output_type": "stream",
     "text": [
      "C:\\Users\\Sagar\\Anaconda3\\lib\\site-packages\\sklearn\\ensemble\\forest.py:245: FutureWarning: The default value of n_estimators will change from 10 in version 0.20 to 100 in 0.22.\n",
      "  \"10 in version 0.20 to 100 in 0.22.\", FutureWarning)\n",
      "C:\\Users\\Sagar\\Anaconda3\\lib\\site-packages\\sklearn\\ensemble\\forest.py:245: FutureWarning: The default value of n_estimators will change from 10 in version 0.20 to 100 in 0.22.\n",
      "  \"10 in version 0.20 to 100 in 0.22.\", FutureWarning)\n",
      "C:\\Users\\Sagar\\Anaconda3\\lib\\site-packages\\sklearn\\ensemble\\forest.py:245: FutureWarning: The default value of n_estimators will change from 10 in version 0.20 to 100 in 0.22.\n",
      "  \"10 in version 0.20 to 100 in 0.22.\", FutureWarning)\n",
      "C:\\Users\\Sagar\\Anaconda3\\lib\\site-packages\\sklearn\\ensemble\\forest.py:245: FutureWarning: The default value of n_estimators will change from 10 in version 0.20 to 100 in 0.22.\n",
      "  \"10 in version 0.20 to 100 in 0.22.\", FutureWarning)\n",
      "C:\\Users\\Sagar\\Anaconda3\\lib\\site-packages\\sklearn\\ensemble\\forest.py:245: FutureWarning: The default value of n_estimators will change from 10 in version 0.20 to 100 in 0.22.\n",
      "  \"10 in version 0.20 to 100 in 0.22.\", FutureWarning)\n",
      "C:\\Users\\Sagar\\Anaconda3\\lib\\site-packages\\sklearn\\ensemble\\forest.py:245: FutureWarning: The default value of n_estimators will change from 10 in version 0.20 to 100 in 0.22.\n",
      "  \"10 in version 0.20 to 100 in 0.22.\", FutureWarning)\n",
      "C:\\Users\\Sagar\\Anaconda3\\lib\\site-packages\\sklearn\\ensemble\\forest.py:245: FutureWarning: The default value of n_estimators will change from 10 in version 0.20 to 100 in 0.22.\n",
      "  \"10 in version 0.20 to 100 in 0.22.\", FutureWarning)\n",
      "C:\\Users\\Sagar\\Anaconda3\\lib\\site-packages\\sklearn\\ensemble\\forest.py:245: FutureWarning: The default value of n_estimators will change from 10 in version 0.20 to 100 in 0.22.\n",
      "  \"10 in version 0.20 to 100 in 0.22.\", FutureWarning)\n",
      "C:\\Users\\Sagar\\Anaconda3\\lib\\site-packages\\sklearn\\ensemble\\forest.py:245: FutureWarning: The default value of n_estimators will change from 10 in version 0.20 to 100 in 0.22.\n",
      "  \"10 in version 0.20 to 100 in 0.22.\", FutureWarning)\n"
     ]
    },
    {
     "name": "stdout",
     "output_type": "stream",
     "text": [
      "0.6692708333333334\n"
     ]
    }
   ],
   "source": [
    "acc6=[]\n",
    "max_depth = []\n",
    "for i in range(1,10):\n",
    "    clf_RF = RandomForestClassifier(max_depth=i)\n",
    "    clf_RF.fit(X_train, Y_train) \n",
    "    pred_RF = clf_RF.predict(X_test)\n",
    "    pred_RF = average(pred_RF)\n",
    "    acc6.append(accuracy_score(pred_RF, Y_test))\n",
    "    max_depth.append(i)\n",
    "print (max(acc6))"
   ]
  },
  {
   "cell_type": "code",
   "execution_count": 104,
   "metadata": {},
   "outputs": [
    {
     "data": {
      "text/plain": [
       "5"
      ]
     },
     "execution_count": 104,
     "metadata": {},
     "output_type": "execute_result"
    }
   ],
   "source": [
    "best_depth_6 = max_depth[acc6.index(max(acc6))]\n",
    "best_depth_6"
   ]
  },
  {
   "cell_type": "code",
   "execution_count": 105,
   "metadata": {},
   "outputs": [
    {
     "name": "stderr",
     "output_type": "stream",
     "text": [
      "C:\\Users\\Sagar\\Anaconda3\\lib\\site-packages\\sklearn\\ensemble\\forest.py:245: FutureWarning: The default value of n_estimators will change from 10 in version 0.20 to 100 in 0.22.\n",
      "  \"10 in version 0.20 to 100 in 0.22.\", FutureWarning)\n"
     ]
    },
    {
     "name": "stdout",
     "output_type": "stream",
     "text": [
      "[0.6755208333333333, 0.7169468423443889, 0.6484445529513889]\n",
      "[[508 452]\n",
      " [171 789]]\n"
     ]
    }
   ],
   "source": [
    "clf_RF = RandomForestClassifier(max_depth=best_depth_6)\n",
    "clf_RF.fit(X_train, Y_train) \n",
    "pred_RF = clf_RF.predict(X_test)\n",
    "pred_RF = average(pred_RF)\n",
    "y_score_6 = clf_RF.predict_proba(X_test)[:,1]\n",
    "acc6 = accuracy_score(Y_test, pred_RF)\n",
    "f1_score_6 = metrics.f1_score(Y_test, pred_RF)\n",
    "roc_6 = metrics.roc_auc_score(Y_test, y_score_6)\n",
    "print([acc6,f1_score_6,roc_6])\n",
    "print(confusion_matrix(Y_test, pred_RF))\n",
    "\n",
    "feature_importances = pd.DataFrame(clf_RF.feature_importances_,index = X_train.columns,columns=['Importance']).sort_values('Importance',ascending=False)"
   ]
  },
  {
   "cell_type": "markdown",
   "metadata": {},
   "source": [
    "# 7. XGBoost"
   ]
  },
  {
   "cell_type": "code",
   "execution_count": 106,
   "metadata": {},
   "outputs": [
    {
     "name": "stdout",
     "output_type": "stream",
     "text": [
      "[0.671875, 0.6974063400576369, 0.6789860026041667]\n",
      "[[564 396]\n",
      " [234 726]]\n"
     ]
    }
   ],
   "source": [
    "import xgboost\n",
    "from xgboost import XGBClassifier\n",
    "\n",
    "clf_XGB = XGBClassifier()\n",
    "clf_XGB.fit(X_train, Y_train)\n",
    "pred_XGB = clf_XGB.predict(X_test)\n",
    "pred_XGB = average(pred_XGB)\n",
    "y_score_8 = clf_XGB.predict_proba(X_test)[:,1]\n",
    "acc8 = accuracy_score(Y_test,pred_XGB)\n",
    "f1_score_8 = metrics.f1_score(Y_test, pred_XGB)\n",
    "roc_8 = metrics.roc_auc_score(Y_test, y_score_8)\n",
    "print([acc8,f1_score_8,roc_8])\n",
    "print(confusion_matrix(Y_test, pred_XGB))"
   ]
  },
  {
   "cell_type": "code",
   "execution_count": 107,
   "metadata": {},
   "outputs": [
    {
     "data": {
      "text/html": [
       "<div>\n",
       "<style scoped>\n",
       "    .dataframe tbody tr th:only-of-type {\n",
       "        vertical-align: middle;\n",
       "    }\n",
       "\n",
       "    .dataframe tbody tr th {\n",
       "        vertical-align: top;\n",
       "    }\n",
       "\n",
       "    .dataframe thead th {\n",
       "        text-align: right;\n",
       "    }\n",
       "</style>\n",
       "<table border=\"1\" class=\"dataframe\">\n",
       "  <thead>\n",
       "    <tr style=\"text-align: right;\">\n",
       "      <th></th>\n",
       "      <th>Importance</th>\n",
       "    </tr>\n",
       "  </thead>\n",
       "  <tbody>\n",
       "    <tr>\n",
       "      <td>MOE_N</td>\n",
       "      <td>0.196819</td>\n",
       "    </tr>\n",
       "    <tr>\n",
       "      <td>PUC_N</td>\n",
       "      <td>0.172176</td>\n",
       "    </tr>\n",
       "    <tr>\n",
       "      <td>EAR_N</td>\n",
       "      <td>0.129307</td>\n",
       "    </tr>\n",
       "    <tr>\n",
       "      <td>MAR_N</td>\n",
       "      <td>0.128964</td>\n",
       "    </tr>\n",
       "    <tr>\n",
       "      <td>MAR</td>\n",
       "      <td>0.114888</td>\n",
       "    </tr>\n",
       "    <tr>\n",
       "      <td>MOE</td>\n",
       "      <td>0.094561</td>\n",
       "    </tr>\n",
       "    <tr>\n",
       "      <td>EAR</td>\n",
       "      <td>0.092264</td>\n",
       "    </tr>\n",
       "    <tr>\n",
       "      <td>PUC</td>\n",
       "      <td>0.071022</td>\n",
       "    </tr>\n",
       "  </tbody>\n",
       "</table>\n",
       "</div>"
      ],
      "text/plain": [
       "       Importance\n",
       "MOE_N    0.196819\n",
       "PUC_N    0.172176\n",
       "EAR_N    0.129307\n",
       "MAR_N    0.128964\n",
       "MAR      0.114888\n",
       "MOE      0.094561\n",
       "EAR      0.092264\n",
       "PUC      0.071022"
      ]
     },
     "execution_count": 107,
     "metadata": {},
     "output_type": "execute_result"
    }
   ],
   "source": [
    "feature_importances"
   ]
  },
  {
   "cell_type": "code",
   "execution_count": 108,
   "metadata": {},
   "outputs": [
    {
     "data": {
      "text/plain": [
       "(7160, 8, 1)"
      ]
     },
     "execution_count": 108,
     "metadata": {},
     "output_type": "execute_result"
    }
   ],
   "source": [
    "X_train_shaped = np.expand_dims(X_train, axis=2)\n",
    "X_train_shaped.shape"
   ]
  },
  {
   "cell_type": "code",
   "execution_count": 109,
   "metadata": {},
   "outputs": [
    {
     "data": {
      "text/plain": [
       "(1920, 8, 1)"
      ]
     },
     "execution_count": 109,
     "metadata": {},
     "output_type": "execute_result"
    }
   ],
   "source": [
    "X_test_shaped = np.expand_dims(X_test, axis=2)\n",
    "X_test_shaped.shape"
   ]
  },
  {
   "cell_type": "code",
   "execution_count": 110,
   "metadata": {},
   "outputs": [
    {
     "name": "stdout",
     "output_type": "stream",
     "text": [
      "Epoch 1/100\n",
      "224/224 [==============================] - 2s 7ms/step - loss: 0.9081 - accuracy: 0.4659 - val_loss: 0.8802 - val_accuracy: 0.4349\n",
      "Epoch 2/100\n",
      "224/224 [==============================] - 1s 4ms/step - loss: 0.7708 - accuracy: 0.5254 - val_loss: 0.7823 - val_accuracy: 0.4839\n",
      "Epoch 3/100\n",
      "224/224 [==============================] - 1s 3ms/step - loss: 0.6874 - accuracy: 0.6035 - val_loss: 0.7496 - val_accuracy: 0.5354\n",
      "Epoch 4/100\n",
      "224/224 [==============================] - 1s 3ms/step - loss: 0.6530 - accuracy: 0.6682 - val_loss: 0.7337 - val_accuracy: 0.6000\n",
      "Epoch 5/100\n",
      "224/224 [==============================] - 1s 3ms/step - loss: 0.6316 - accuracy: 0.7025 - val_loss: 0.7341 - val_accuracy: 0.6099\n",
      "Epoch 6/100\n",
      "224/224 [==============================] - 1s 4ms/step - loss: 0.6212 - accuracy: 0.7144 - val_loss: 0.7355 - val_accuracy: 0.6135\n",
      "Epoch 7/100\n",
      "224/224 [==============================] - 1s 3ms/step - loss: 0.6105 - accuracy: 0.7223 - val_loss: 0.7352 - val_accuracy: 0.6182\n",
      "Epoch 8/100\n",
      "224/224 [==============================] - 1s 3ms/step - loss: 0.5970 - accuracy: 0.7232 - val_loss: 0.7334 - val_accuracy: 0.6245\n",
      "Epoch 9/100\n",
      "224/224 [==============================] - 1s 5ms/step - loss: 0.5900 - accuracy: 0.7318 - val_loss: 0.7349 - val_accuracy: 0.6307\n",
      "Epoch 10/100\n",
      "224/224 [==============================] - 1s 3ms/step - loss: 0.5827 - accuracy: 0.7303 - val_loss: 0.7365 - val_accuracy: 0.6380\n",
      "Epoch 11/100\n",
      "224/224 [==============================] - 1s 3ms/step - loss: 0.5796 - accuracy: 0.7331 - val_loss: 0.7373 - val_accuracy: 0.6406\n",
      "Epoch 12/100\n",
      "224/224 [==============================] - 1s 3ms/step - loss: 0.5712 - accuracy: 0.7334 - val_loss: 0.7397 - val_accuracy: 0.6422\n",
      "Epoch 13/100\n",
      "224/224 [==============================] - 1s 3ms/step - loss: 0.5695 - accuracy: 0.7398 - val_loss: 0.7413 - val_accuracy: 0.6422\n",
      "Epoch 14/100\n",
      "224/224 [==============================] - 1s 3ms/step - loss: 0.5651 - accuracy: 0.7420 - val_loss: 0.7429 - val_accuracy: 0.6443\n",
      "Epoch 15/100\n",
      "224/224 [==============================] - 1s 3ms/step - loss: 0.5625 - accuracy: 0.7404 - val_loss: 0.7412 - val_accuracy: 0.6464\n",
      "Epoch 16/100\n",
      "224/224 [==============================] - 1s 3ms/step - loss: 0.5568 - accuracy: 0.7475 - val_loss: 0.7408 - val_accuracy: 0.6458\n",
      "Epoch 17/100\n",
      "224/224 [==============================] - 1s 3ms/step - loss: 0.5543 - accuracy: 0.7482 - val_loss: 0.7399 - val_accuracy: 0.6458\n",
      "Epoch 18/100\n",
      "224/224 [==============================] - 1s 3ms/step - loss: 0.5509 - accuracy: 0.7426 - val_loss: 0.7374 - val_accuracy: 0.6453\n",
      "Epoch 19/100\n",
      "224/224 [==============================] - 1s 4ms/step - loss: 0.5495 - accuracy: 0.7448 - val_loss: 0.7369 - val_accuracy: 0.6448\n",
      "Epoch 20/100\n",
      "224/224 [==============================] - 1s 3ms/step - loss: 0.5454 - accuracy: 0.7493 - val_loss: 0.7369 - val_accuracy: 0.6448\n",
      "Epoch 21/100\n",
      "224/224 [==============================] - 1s 3ms/step - loss: 0.5443 - accuracy: 0.7487 - val_loss: 0.7359 - val_accuracy: 0.6448\n",
      "Epoch 22/100\n",
      "224/224 [==============================] - 1s 3ms/step - loss: 0.5444 - accuracy: 0.7503 - val_loss: 0.7380 - val_accuracy: 0.6448\n",
      "Epoch 23/100\n",
      "224/224 [==============================] - 1s 3ms/step - loss: 0.5403 - accuracy: 0.7508 - val_loss: 0.7369 - val_accuracy: 0.6458\n",
      "Epoch 24/100\n",
      "224/224 [==============================] - 1s 3ms/step - loss: 0.5398 - accuracy: 0.7487 - val_loss: 0.7374 - val_accuracy: 0.6448\n",
      "Epoch 25/100\n",
      "224/224 [==============================] - 1s 3ms/step - loss: 0.5396 - accuracy: 0.7528 - val_loss: 0.7351 - val_accuracy: 0.6453\n",
      "Epoch 26/100\n",
      "224/224 [==============================] - 1s 3ms/step - loss: 0.5354 - accuracy: 0.7511 - val_loss: 0.7359 - val_accuracy: 0.6474\n",
      "Epoch 27/100\n",
      "224/224 [==============================] - 1s 3ms/step - loss: 0.5357 - accuracy: 0.7567 - val_loss: 0.7350 - val_accuracy: 0.6448\n",
      "Epoch 28/100\n",
      "224/224 [==============================] - 1s 3ms/step - loss: 0.5332 - accuracy: 0.7575 - val_loss: 0.7331 - val_accuracy: 0.6469\n",
      "Epoch 29/100\n",
      "224/224 [==============================] - 1s 3ms/step - loss: 0.5312 - accuracy: 0.7522 - val_loss: 0.7325 - val_accuracy: 0.6469\n",
      "Epoch 30/100\n",
      "224/224 [==============================] - 1s 3ms/step - loss: 0.5295 - accuracy: 0.7527 - val_loss: 0.7345 - val_accuracy: 0.6469\n",
      "Epoch 31/100\n",
      "224/224 [==============================] - 1s 4ms/step - loss: 0.5292 - accuracy: 0.7546 - val_loss: 0.7339 - val_accuracy: 0.6464\n",
      "Epoch 32/100\n",
      "224/224 [==============================] - 1s 3ms/step - loss: 0.5297 - accuracy: 0.7528 - val_loss: 0.7338 - val_accuracy: 0.6458\n",
      "Epoch 33/100\n",
      "224/224 [==============================] - 1s 3ms/step - loss: 0.5272 - accuracy: 0.7553 - val_loss: 0.7320 - val_accuracy: 0.6484\n",
      "Epoch 34/100\n",
      "224/224 [==============================] - 1s 3ms/step - loss: 0.5241 - accuracy: 0.7577 - val_loss: 0.7312 - val_accuracy: 0.6484\n",
      "Epoch 35/100\n",
      "224/224 [==============================] - 1s 3ms/step - loss: 0.5273 - accuracy: 0.7536 - val_loss: 0.7323 - val_accuracy: 0.6474\n",
      "Epoch 36/100\n",
      "224/224 [==============================] - 1s 3ms/step - loss: 0.5240 - accuracy: 0.7511 - val_loss: 0.7321 - val_accuracy: 0.6474\n",
      "Epoch 37/100\n",
      "224/224 [==============================] - 1s 3ms/step - loss: 0.5217 - accuracy: 0.7587 - val_loss: 0.7291 - val_accuracy: 0.6474\n",
      "Epoch 38/100\n",
      "224/224 [==============================] - 1s 3ms/step - loss: 0.5206 - accuracy: 0.7580 - val_loss: 0.7267 - val_accuracy: 0.6479\n",
      "Epoch 39/100\n",
      "224/224 [==============================] - 1s 3ms/step - loss: 0.5233 - accuracy: 0.7582 - val_loss: 0.7265 - val_accuracy: 0.6484\n",
      "Epoch 40/100\n",
      "224/224 [==============================] - 1s 4ms/step - loss: 0.5229 - accuracy: 0.7573 - val_loss: 0.7217 - val_accuracy: 0.6479\n",
      "Epoch 41/100\n",
      "224/224 [==============================] - 1s 3ms/step - loss: 0.5190 - accuracy: 0.7608 - val_loss: 0.7233 - val_accuracy: 0.6479\n",
      "Epoch 42/100\n",
      "224/224 [==============================] - 1s 3ms/step - loss: 0.5191 - accuracy: 0.7580 - val_loss: 0.7191 - val_accuracy: 0.6479\n",
      "Epoch 43/100\n",
      "224/224 [==============================] - 1s 3ms/step - loss: 0.5204 - accuracy: 0.7609 - val_loss: 0.7219 - val_accuracy: 0.6479\n",
      "Epoch 44/100\n",
      "224/224 [==============================] - 1s 3ms/step - loss: 0.5180 - accuracy: 0.7581 - val_loss: 0.7222 - val_accuracy: 0.6479\n",
      "Epoch 45/100\n",
      "224/224 [==============================] - 1s 3ms/step - loss: 0.5161 - accuracy: 0.7615 - val_loss: 0.7236 - val_accuracy: 0.6474\n",
      "Epoch 46/100\n",
      "224/224 [==============================] - 1s 3ms/step - loss: 0.5165 - accuracy: 0.7594 - val_loss: 0.7231 - val_accuracy: 0.6474\n",
      "Epoch 47/100\n",
      "224/224 [==============================] - 1s 3ms/step - loss: 0.5140 - accuracy: 0.7609 - val_loss: 0.7237 - val_accuracy: 0.6469\n",
      "Epoch 48/100\n",
      "224/224 [==============================] - 1s 4ms/step - loss: 0.5135 - accuracy: 0.7592 - val_loss: 0.7239 - val_accuracy: 0.6484\n",
      "Epoch 49/100\n",
      "224/224 [==============================] - 1s 3ms/step - loss: 0.5142 - accuracy: 0.7594 - val_loss: 0.7242 - val_accuracy: 0.6484\n",
      "Epoch 50/100\n",
      "224/224 [==============================] - 1s 3ms/step - loss: 0.5099 - accuracy: 0.7596 - val_loss: 0.7233 - val_accuracy: 0.6484\n",
      "Epoch 51/100\n",
      "224/224 [==============================] - 1s 3ms/step - loss: 0.5099 - accuracy: 0.7640 - val_loss: 0.7241 - val_accuracy: 0.6484\n",
      "Epoch 52/100\n",
      "224/224 [==============================] - 1s 3ms/step - loss: 0.5108 - accuracy: 0.7615 - val_loss: 0.7241 - val_accuracy: 0.6484\n",
      "Epoch 53/100\n",
      "224/224 [==============================] - 1s 3ms/step - loss: 0.5118 - accuracy: 0.7601 - val_loss: 0.7238 - val_accuracy: 0.6479\n",
      "Epoch 54/100\n",
      "224/224 [==============================] - 1s 3ms/step - loss: 0.5082 - accuracy: 0.7616 - val_loss: 0.7226 - val_accuracy: 0.6474\n",
      "Epoch 55/100\n",
      "224/224 [==============================] - 1s 3ms/step - loss: 0.5107 - accuracy: 0.7651 - val_loss: 0.7205 - val_accuracy: 0.6474\n",
      "Epoch 56/100\n",
      "224/224 [==============================] - 1s 3ms/step - loss: 0.5097 - accuracy: 0.7656 - val_loss: 0.7172 - val_accuracy: 0.6479\n",
      "Epoch 57/100\n",
      "224/224 [==============================] - 1s 3ms/step - loss: 0.5065 - accuracy: 0.7647 - val_loss: 0.7183 - val_accuracy: 0.6479\n",
      "Epoch 58/100\n",
      "224/224 [==============================] - 1s 3ms/step - loss: 0.5061 - accuracy: 0.7627 - val_loss: 0.7181 - val_accuracy: 0.6479\n",
      "Epoch 59/100\n",
      "224/224 [==============================] - 1s 3ms/step - loss: 0.5045 - accuracy: 0.7620 - val_loss: 0.7176 - val_accuracy: 0.6479\n",
      "Epoch 60/100\n",
      "224/224 [==============================] - 1s 3ms/step - loss: 0.5073 - accuracy: 0.7627 - val_loss: 0.7183 - val_accuracy: 0.6474\n",
      "Epoch 61/100\n",
      "224/224 [==============================] - 1s 3ms/step - loss: 0.5057 - accuracy: 0.7627 - val_loss: 0.7148 - val_accuracy: 0.6479\n",
      "Epoch 62/100\n",
      "224/224 [==============================] - 1s 3ms/step - loss: 0.5054 - accuracy: 0.7641 - val_loss: 0.7132 - val_accuracy: 0.6490\n",
      "Epoch 63/100\n",
      "224/224 [==============================] - 1s 3ms/step - loss: 0.5058 - accuracy: 0.7651 - val_loss: 0.7121 - val_accuracy: 0.6474\n",
      "Epoch 64/100\n",
      "224/224 [==============================] - 1s 3ms/step - loss: 0.5024 - accuracy: 0.7647 - val_loss: 0.7140 - val_accuracy: 0.6474\n",
      "Epoch 65/100\n",
      "224/224 [==============================] - 1s 3ms/step - loss: 0.5048 - accuracy: 0.7637 - val_loss: 0.7127 - val_accuracy: 0.6484\n",
      "Epoch 66/100\n",
      "224/224 [==============================] - 1s 3ms/step - loss: 0.5051 - accuracy: 0.7661 - val_loss: 0.7137 - val_accuracy: 0.6495\n",
      "Epoch 67/100\n",
      "224/224 [==============================] - 1s 3ms/step - loss: 0.5024 - accuracy: 0.7658 - val_loss: 0.7128 - val_accuracy: 0.6495\n",
      "Epoch 68/100\n",
      "224/224 [==============================] - 1s 3ms/step - loss: 0.5002 - accuracy: 0.7658 - val_loss: 0.7129 - val_accuracy: 0.6479\n",
      "Epoch 69/100\n",
      "224/224 [==============================] - 1s 3ms/step - loss: 0.5011 - accuracy: 0.7666 - val_loss: 0.7125 - val_accuracy: 0.6490\n",
      "Epoch 70/100\n",
      "224/224 [==============================] - 1s 3ms/step - loss: 0.4998 - accuracy: 0.7668 - val_loss: 0.7128 - val_accuracy: 0.6490\n",
      "Epoch 71/100\n",
      "224/224 [==============================] - 1s 3ms/step - loss: 0.5044 - accuracy: 0.7669 - val_loss: 0.7105 - val_accuracy: 0.6479\n",
      "Epoch 72/100\n",
      "224/224 [==============================] - 1s 3ms/step - loss: 0.5008 - accuracy: 0.7697 - val_loss: 0.7100 - val_accuracy: 0.6474\n",
      "Epoch 73/100\n",
      "224/224 [==============================] - 1s 3ms/step - loss: 0.4990 - accuracy: 0.7709 - val_loss: 0.7113 - val_accuracy: 0.6474\n",
      "Epoch 74/100\n",
      "224/224 [==============================] - 1s 3ms/step - loss: 0.5001 - accuracy: 0.7677 - val_loss: 0.7083 - val_accuracy: 0.6484\n",
      "Epoch 75/100\n",
      "224/224 [==============================] - 1s 3ms/step - loss: 0.5010 - accuracy: 0.7682 - val_loss: 0.7080 - val_accuracy: 0.6484\n",
      "Epoch 76/100\n",
      "224/224 [==============================] - 1s 3ms/step - loss: 0.4998 - accuracy: 0.7680 - val_loss: 0.7081 - val_accuracy: 0.6484\n",
      "Epoch 77/100\n",
      "224/224 [==============================] - 1s 3ms/step - loss: 0.5015 - accuracy: 0.7668 - val_loss: 0.7074 - val_accuracy: 0.6484\n",
      "Epoch 78/100\n",
      "224/224 [==============================] - 1s 3ms/step - loss: 0.4954 - accuracy: 0.7682 - val_loss: 0.7074 - val_accuracy: 0.6490\n",
      "Epoch 79/100\n",
      "224/224 [==============================] - 1s 4ms/step - loss: 0.4980 - accuracy: 0.7687 - val_loss: 0.7062 - val_accuracy: 0.6484\n",
      "Epoch 80/100\n",
      "224/224 [==============================] - 1s 3ms/step - loss: 0.4964 - accuracy: 0.7679 - val_loss: 0.7113 - val_accuracy: 0.6479\n",
      "Epoch 81/100\n",
      "224/224 [==============================] - 1s 3ms/step - loss: 0.4972 - accuracy: 0.7712 - val_loss: 0.7066 - val_accuracy: 0.6490\n",
      "Epoch 82/100\n",
      "224/224 [==============================] - 1s 3ms/step - loss: 0.4987 - accuracy: 0.7642 - val_loss: 0.7065 - val_accuracy: 0.6474\n",
      "Epoch 83/100\n",
      "224/224 [==============================] - 1s 3ms/step - loss: 0.4962 - accuracy: 0.7716 - val_loss: 0.7057 - val_accuracy: 0.6490\n",
      "Epoch 84/100\n",
      "224/224 [==============================] - 1s 3ms/step - loss: 0.4951 - accuracy: 0.7712 - val_loss: 0.7047 - val_accuracy: 0.6484\n",
      "Epoch 85/100\n",
      "224/224 [==============================] - 1s 3ms/step - loss: 0.4961 - accuracy: 0.7684 - val_loss: 0.7053 - val_accuracy: 0.6490\n",
      "Epoch 86/100\n",
      "224/224 [==============================] - 1s 3ms/step - loss: 0.4958 - accuracy: 0.7721 - val_loss: 0.7041 - val_accuracy: 0.6490\n",
      "Epoch 87/100\n",
      "224/224 [==============================] - 1s 3ms/step - loss: 0.4945 - accuracy: 0.7669 - val_loss: 0.7043 - val_accuracy: 0.6484\n",
      "Epoch 88/100\n",
      "224/224 [==============================] - 1s 3ms/step - loss: 0.4960 - accuracy: 0.7687 - val_loss: 0.7025 - val_accuracy: 0.6479\n",
      "Epoch 89/100\n",
      "224/224 [==============================] - 1s 3ms/step - loss: 0.4966 - accuracy: 0.7672 - val_loss: 0.7036 - val_accuracy: 0.6484\n",
      "Epoch 90/100\n",
      "224/224 [==============================] - 1s 3ms/step - loss: 0.4970 - accuracy: 0.7716 - val_loss: 0.7038 - val_accuracy: 0.6484\n",
      "Epoch 91/100\n",
      "224/224 [==============================] - 1s 3ms/step - loss: 0.4959 - accuracy: 0.7729 - val_loss: 0.7037 - val_accuracy: 0.6490\n",
      "Epoch 92/100\n",
      "224/224 [==============================] - 1s 3ms/step - loss: 0.4940 - accuracy: 0.7686 - val_loss: 0.7038 - val_accuracy: 0.6484\n",
      "Epoch 93/100\n",
      "224/224 [==============================] - 1s 4ms/step - loss: 0.4952 - accuracy: 0.7707 - val_loss: 0.7030 - val_accuracy: 0.6500\n",
      "Epoch 94/100\n",
      "224/224 [==============================] - 1s 3ms/step - loss: 0.4939 - accuracy: 0.7708 - val_loss: 0.7024 - val_accuracy: 0.6495\n",
      "Epoch 95/100\n",
      "224/224 [==============================] - 1s 4ms/step - loss: 0.4914 - accuracy: 0.7709 - val_loss: 0.7035 - val_accuracy: 0.6495\n",
      "Epoch 96/100\n",
      "224/224 [==============================] - 1s 3ms/step - loss: 0.4908 - accuracy: 0.7721 - val_loss: 0.7034 - val_accuracy: 0.6495\n",
      "Epoch 97/100\n",
      "224/224 [==============================] - 1s 3ms/step - loss: 0.4877 - accuracy: 0.7747 - val_loss: 0.7029 - val_accuracy: 0.6516\n",
      "Epoch 98/100\n",
      "224/224 [==============================] - 1s 3ms/step - loss: 0.4916 - accuracy: 0.7714 - val_loss: 0.7021 - val_accuracy: 0.6536\n",
      "Epoch 99/100\n",
      "224/224 [==============================] - 1s 3ms/step - loss: 0.4923 - accuracy: 0.7725 - val_loss: 0.7017 - val_accuracy: 0.6521\n",
      "Epoch 100/100\n",
      "224/224 [==============================] - 1s 3ms/step - loss: 0.4890 - accuracy: 0.7758 - val_loss: 0.7009 - val_accuracy: 0.6516\n"
     ]
    },
    {
     "data": {
      "text/plain": [
       "<tensorflow.python.keras.callbacks.History at 0x2062591ae88>"
      ]
     },
     "execution_count": 110,
     "metadata": {},
     "output_type": "execute_result"
    }
   ],
   "source": [
    "from tensorflow.keras.models import Sequential\n",
    "from tensorflow.keras.layers import Dense, Flatten, Conv1D\n",
    "from tensorflow.keras.optimizers import Adam, RMSprop\n",
    "from tensorflow.keras.layers import Dropout\n",
    "\n",
    "model = Sequential()\n",
    "\n",
    "model.add(Conv1D(64, kernel_size = 3, activation = 'relu', input_shape = (8,1)))\n",
    "model.add(Flatten())\n",
    "model.add(Dense(32, activation='relu'))\n",
    "model.add(Dense(16, activation = 'relu'))\n",
    "model.add(Dropout(0.2))\n",
    "model.add(Dense(1,activation = 'sigmoid'))\n",
    "\n",
    "optimizer = Adam(lr=0.00001)\n",
    "model.compile(loss='binary_crossentropy', optimizer=optimizer, metrics=['accuracy'])\n",
    "\n",
    "model.fit(X_train_shaped, Y_train, validation_data = (X_test_shaped,Y_test), epochs = 100)"
   ]
  },
  {
   "cell_type": "code",
   "execution_count": 111,
   "metadata": {},
   "outputs": [
    {
     "name": "stdout",
     "output_type": "stream",
     "text": [
      "Model: \"sequential_2\"\n",
      "_________________________________________________________________\n",
      "Layer (type)                 Output Shape              Param #   \n",
      "=================================================================\n",
      "conv1d_2 (Conv1D)            (None, 6, 64)             256       \n",
      "_________________________________________________________________\n",
      "flatten_2 (Flatten)          (None, 384)               0         \n",
      "_________________________________________________________________\n",
      "dense_6 (Dense)              (None, 32)                12320     \n",
      "_________________________________________________________________\n",
      "dense_7 (Dense)              (None, 16)                528       \n",
      "_________________________________________________________________\n",
      "dropout_2 (Dropout)          (None, 16)                0         \n",
      "_________________________________________________________________\n",
      "dense_8 (Dense)              (None, 1)                 17        \n",
      "=================================================================\n",
      "Total params: 13,121\n",
      "Trainable params: 13,121\n",
      "Non-trainable params: 0\n",
      "_________________________________________________________________\n"
     ]
    }
   ],
   "source": [
    "model.summary()"
   ]
  },
  {
   "cell_type": "code",
   "execution_count": 112,
   "metadata": {},
   "outputs": [
    {
     "name": "stdout",
     "output_type": "stream",
     "text": [
      "[0.665625, 0.7186678352322524, 0.6837207031249999]\n",
      "[[458 502]\n",
      " [140 820]]\n"
     ]
    }
   ],
   "source": [
    "pred_cnn = model.predict_classes(X_test_shaped)\n",
    "pred_cnn = average(pred_cnn)\n",
    "y_score_7 = model.predict_proba(X_test_shaped)\n",
    "acc7 = accuracy_score(Y_test, np.array(pred_cnn))\n",
    "f1_score_7 = metrics.f1_score(Y_test, pred_cnn)\n",
    "roc_7 = metrics.roc_auc_score(Y_test, y_score_7)\n",
    "print([acc7,f1_score_7,roc_7])\n",
    "print(confusion_matrix(Y_test, pred_cnn))"
   ]
  },
  {
   "cell_type": "code",
   "execution_count": 113,
   "metadata": {},
   "outputs": [
    {
     "data": {
      "text/html": [
       "<div>\n",
       "<style scoped>\n",
       "    .dataframe tbody tr th:only-of-type {\n",
       "        vertical-align: middle;\n",
       "    }\n",
       "\n",
       "    .dataframe tbody tr th {\n",
       "        vertical-align: top;\n",
       "    }\n",
       "\n",
       "    .dataframe thead th {\n",
       "        text-align: right;\n",
       "    }\n",
       "</style>\n",
       "<table border=\"1\" class=\"dataframe\">\n",
       "  <thead>\n",
       "    <tr style=\"text-align: right;\">\n",
       "      <th></th>\n",
       "      <th>Accuracy</th>\n",
       "    </tr>\n",
       "    <tr>\n",
       "      <th>Model</th>\n",
       "      <th></th>\n",
       "    </tr>\n",
       "  </thead>\n",
       "  <tbody>\n",
       "    <tr>\n",
       "      <td>Logistic Regression</td>\n",
       "      <td>0.756771</td>\n",
       "    </tr>\n",
       "    <tr>\n",
       "      <td>Naive Bayes</td>\n",
       "      <td>0.647917</td>\n",
       "    </tr>\n",
       "    <tr>\n",
       "      <td>KNN</td>\n",
       "      <td>0.651563</td>\n",
       "    </tr>\n",
       "    <tr>\n",
       "      <td>MLP</td>\n",
       "      <td>0.681250</td>\n",
       "    </tr>\n",
       "    <tr>\n",
       "      <td>Decision Tree</td>\n",
       "      <td>0.654167</td>\n",
       "    </tr>\n",
       "    <tr>\n",
       "      <td>Random Forest</td>\n",
       "      <td>0.675521</td>\n",
       "    </tr>\n",
       "    <tr>\n",
       "      <td>CNN</td>\n",
       "      <td>0.665625</td>\n",
       "    </tr>\n",
       "    <tr>\n",
       "      <td>XGB Boosting</td>\n",
       "      <td>0.671875</td>\n",
       "    </tr>\n",
       "  </tbody>\n",
       "</table>\n",
       "</div>"
      ],
      "text/plain": [
       "                     Accuracy\n",
       "Model                        \n",
       "Logistic Regression  0.756771\n",
       "Naive Bayes          0.647917\n",
       "KNN                  0.651563\n",
       "MLP                  0.681250\n",
       "Decision Tree        0.654167\n",
       "Random Forest        0.675521\n",
       "CNN                  0.665625\n",
       "XGB Boosting         0.671875"
      ]
     },
     "execution_count": 113,
     "metadata": {},
     "output_type": "execute_result"
    },
    {
     "data": {
      "image/png": "[encoded data removed]",
      "text/plain": [
       "<Figure size 432x288 with 1 Axes>"
      ]
     },
     "metadata": {
      "needs_background": "light"
     },
     "output_type": "display_data"
    }
   ],
   "source": [
    "acc_total = {'Model':['Logistic Regression','Naive Bayes', 'KNN', 'MLP','Decision Tree','Random Forest', 'CNN', 'XGB Boosting'],\n",
    "        'Accuracy':[acc1,acc2, acc3, acc4, acc5,acc6,acc7, acc8]}\n",
    "acc_total=pd.DataFrame(acc_total)\n",
    "acc_total=acc_total.set_index('Model')\n",
    "acc_total\n",
    "plt.plot(acc_total['Accuracy'])\n",
    "plt.xticks(rotation=45)\n",
    "acc_total"
   ]
  },
  {
   "cell_type": "code",
   "execution_count": null,
   "metadata": {},
   "outputs": [],
   "source": []
  },
  {
   "cell_type": "code",
   "execution_count": null,
   "metadata": {},
   "outputs": [],
   "source": []
  },
  {
   "cell_type": "code",
   "execution_count": null,
   "metadata": {},
   "outputs": [],
   "source": []
  },
  {
   "cell_type": "code",
   "execution_count": null,
   "metadata": {},
   "outputs": [],
   "source": []
  }
 ],
 "metadata": {
  "kernelspec": {
   "display_name": "Python 3",
   "language": "python",
   "name": "python3"
  },
  "language_info": {
   "codemirror_mode": {
    "name": "ipython",
    "version": 3
   },
   "file_extension": ".py",
   "mimetype": "text/x-python",
   "name": "python",
   "nbconvert_exporter": "python",
   "pygments_lexer": "ipython3",
   "version": "3.7.4"
  }
 },
 "nbformat": 4,
 "nbformat_minor": 2
}
